{
 "cells": [
  {
   "cell_type": "markdown",
   "metadata": {},
   "source": [
    "# Capstone Project: Create a Customer Segmentation Report for Arvato Financial Services\n",
    "\n",
    "In this project, you will analyze demographics data for customers of a mail-order sales company in Germany, comparing it against demographics information for the general population. You'll use unsupervised learning techniques to perform customer segmentation, identifying the parts of the population that best describe the core customer base of the company. Then, you'll apply what you've learned on a third dataset with demographics information for targets of a marketing campaign for the company, and use a model to predict which individuals are most likely to convert into becoming customers for the company. The data that you will use has been provided by our partners at Bertelsmann Arvato Analytics, and represents a real-life data science task.\n",
    "\n",
    "If you completed the first term of this program, you will be familiar with the first part of this project, from the unsupervised learning project. The versions of those two datasets used in this project will include many more features and has not been pre-cleaned. You are also free to choose whatever approach you'd like to analyzing the data rather than follow pre-determined steps. In your work on this project, make sure that you carefully document your steps and decisions, since your main deliverable for this project will be a blog post reporting your findings."
   ]
  },
  {
   "cell_type": "code",
   "execution_count": 1,
   "metadata": {},
   "outputs": [],
   "source": [
    "# import libraries here; add more as necessary\n",
    "import numpy as np\n",
    "import pandas as pd\n",
    "import matplotlib.pyplot as plt\n",
    "import seaborn as sns\n",
    "\n",
    "import progressbar\n",
    "import joblib\n",
    "import json\n",
    "\n",
    "import lightgbm as lgb\n",
    "from hyperopt import hp\n",
    "\n",
    "import itertools\n",
    "import matplotlib as mpl\n",
    "from scipy import linalg\n",
    "\n",
    "from sklearn.preprocessing import Imputer        as Imputer\n",
    "from sklearn.preprocessing import StandardScaler as Scaler\n",
    "\n",
    "# magic word for producing visualizations in notebook\n",
    "%matplotlib inline"
   ]
  },
  {
   "cell_type": "code",
   "execution_count": 2,
   "metadata": {},
   "outputs": [],
   "source": [
    "from util_Generic import printmd, printHeader, formatLabel\n",
    "from util_Generic import utl_toInteger, utl_isInteger\n",
    "from util_Generic import utl_reduceMemoryUsage"
   ]
  },
  {
   "cell_type": "code",
   "execution_count": 3,
   "metadata": {},
   "outputs": [],
   "source": [
    "from util_FeatureProcess import utl_splitMixedColumnValues\n",
    "from util_FeatureProcess import utl_processColumns\n",
    "from util_FeatureProcess import utl_getValuesCount\n",
    "from util_FeatureProcess import utl_cleanOnDefinition\n",
    "from util_FeatureProcess import utl_cleanDataFrame"
   ]
  },
  {
   "cell_type": "code",
   "execution_count": 4,
   "metadata": {},
   "outputs": [],
   "source": [
    "from util_PCA import utl_applyPCA\n",
    "from util_PCA import utl_pcaResults"
   ]
  },
  {
   "cell_type": "code",
   "execution_count": 5,
   "metadata": {},
   "outputs": [],
   "source": [
    "from CustBoostClassifier import CustBoostClassifier"
   ]
  },
  {
   "cell_type": "code",
   "execution_count": 6,
   "metadata": {},
   "outputs": [],
   "source": [
    "g_saveFilenames = { 'featuresDef':             'saveGlobals/featuresDef.json',\n",
    "                    'pcaMissingUnknown':       'saveGlobals/pcaMissingUnknown.sav',\n",
    "                    'dummyEncode':             'saveGlobals/dummyEncode.json',\n",
    "                    'categoricalToProcess':    'saveGlobals/categoricalToProcess.json',\n",
    "                    'categoricalColumns':      'saveGlobals/categoricalColumns.json',\n",
    "                    'highlyCorrelated':        'saveGlobals/highlyCorrelated.json',\n",
    "                    'colMissing':              'saveGlobals/colMissing.json',\n",
    "                    'colUnknownVals':          'saveGlobals/colUnknownVals.json' }"
   ]
  },
  {
   "cell_type": "markdown",
   "metadata": {},
   "source": [
    "## Part 0: Get to Know the Data\n",
    "\n",
    "There are four data files associated with this project:\n",
    "\n",
    "- `Udacity_AZDIAS_052018.csv`: Demographics data for the general population of Germany; 891 211 persons (rows) x 366 features (columns).\n",
    "- `Udacity_CUSTOMERS_052018.csv`: Demographics data for customers of a mail-order company; 191 652 persons (rows) x 369 features (columns).\n",
    "- `Udacity_MAILOUT_052018_TRAIN.csv`: Demographics data for individuals who were targets of a marketing campaign; 42 982 persons (rows) x 367 (columns).\n",
    "- `Udacity_MAILOUT_052018_TEST.csv`: Demographics data for individuals who were targets of a marketing campaign; 42 833 persons (rows) x 366 (columns).\n",
    "\n",
    "Each row of the demographics files represents a single person, but also includes information outside of individuals, including information about their household, building, and neighborhood. Use the information from the first two files to figure out how customers (\"CUSTOMERS\") are similar to or differ from the general population at large (\"AZDIAS\"), then use your analysis to make predictions on the other two files (\"MAILOUT\"), predicting which recipients are most likely to become a customer for the mail-order company.\n",
    "\n",
    "The \"CUSTOMERS\" file contains three extra columns ('CUSTOMER_GROUP', 'ONLINE_PURCHASE', and 'PRODUCT_GROUP'), which provide broad information about the customers depicted in the file. The original \"MAILOUT\" file included one additional column, \"RESPONSE\", which indicated whether or not each recipient became a customer of the company. For the \"TRAIN\" subset, this column has been retained, but in the \"TEST\" subset it has been removed; it is against that withheld column that your final predictions will be assessed in the Kaggle competition.\n",
    "\n",
    "Otherwise, all of the remaining columns are the same between the three data files. For more information about the columns depicted in the files, you can refer to two Excel spreadsheets provided in the workspace. [One of them](./DIAS Information Levels - Attributes 2017.xlsx) is a top-level list of attributes and descriptions, organized by informational category. [The other](./DIAS Attributes - Values 2017.xlsx) is a detailed mapping of data values for each feature in alphabetical order.\n",
    "\n",
    "In the below cell, we've provided some initial code to load in the first two datasets. Note for all of the `.csv` data files in this project that they're semicolon (`;`) delimited, so an additional argument in the [`read_csv()`](https://pandas.pydata.org/pandas-docs/stable/generated/pandas.read_csv.html) call has been included to read in the data properly. Also, considering the size of the datasets, it may take some time for them to load completely.\n",
    "\n",
    "You'll notice when the data is loaded in that a warning message will immediately pop up. Before you really start digging into the modeling and analysis, you're going to need to perform some cleaning. Take some time to browse the structure of the data and look over the informational spreadsheets to understand the data values. Make some decisions on which features to keep, which features to drop, and if any revisions need to be made on data formats. It'll be a good idea to create a function with pre-processing steps, since you'll need to clean all of the datasets before you work with them."
   ]
  },
  {
   "cell_type": "code",
   "execution_count": null,
   "metadata": {},
   "outputs": [],
   "source": [
    "# load in the data\n",
    "for path in [ '../Arvato Project - dataSensitive', '../../data/Term2/capstone/arvato_data' ]:\n",
    "    try:\n",
    "        azdias    = pd.read_csv(f'{path}/Udacity_AZDIAS_052018.csv', sep=';').drop('Unnamed: 0', axis = 1)            \n",
    "        customers = pd.read_csv(f'{path}/Udacity_CUSTOMERS_052018.csv', sep=';').drop('Unnamed: 0', axis = 1)        \n",
    "        break\n",
    "    except err as Exception: \n",
    "        print(path, err)\n",
    "        \n",
    "utl_reduceMemoryUsage('Azdias', azdias)\n",
    "utl_reduceMemoryUsage('Customers', customers)"
   ]
  },
  {
   "cell_type": "markdown",
   "metadata": {},
   "source": [
    "Check the number of records in both datasets and display the columns which are missing in one of the two datasets."
   ]
  },
  {
   "cell_type": "code",
   "execution_count": null,
   "metadata": {},
   "outputs": [],
   "source": [
    "print(f'Number of records / features in the general population dataset: {azdias.shape}')\n",
    "print(f'Number of records / features in the customers dataset:          {customers.shape}')\n",
    "print('')\n",
    "print('Columns only available in the general population dataset:', [item for item in azdias.columns if item not in customers.columns])\n",
    "print('Columns only available in the customers dataset:',          [item for item in customers.columns if item not in azdias.columns])"
   ]
  },
  {
   "cell_type": "markdown",
   "metadata": {},
   "source": [
    "---\n",
    "### Load and process definition for the columns based on the definition file"
   ]
  },
  {
   "cell_type": "markdown",
   "metadata": {},
   "source": [
    "In the definition file there are certain values which are missing, so we will be using the ffill method in order to fill in the gaps.\n",
    "\n",
    "We also create a flag '_isUnknown', which will help we identify the values that have the meaning 'Unknown' in the datasets.\n",
    "\n",
    "We also check all the columns which might be a multi-level categorical variables."
   ]
  },
  {
   "cell_type": "code",
   "execution_count": null,
   "metadata": {},
   "outputs": [],
   "source": [
    "g_featuresDef = pd.read_csv('../Arvato Project - dataSensitive/DIAS Attributes - Values 2017.csv', sep = ';', engine = 'python')\n",
    "g_featuresDef.columns = ['Attribute', 'Description', 'Value', 'Meaning']\n",
    "\n",
    "g_featuresDef['Value Converted'] = g_featuresDef['Value'].apply(lambda x: str(x).split(',')[0].strip()).apply(utl_toInteger)\n",
    "g_featuresDef['Attribute']   = g_featuresDef['Attribute'].ffill()\n",
    "g_featuresDef['Description'] = g_featuresDef['Description'].ffill()\n",
    "\n",
    "for item in ['LP_STATUS_GROB', 'LP_FAMILIE_GROB']:\n",
    "    v_idx = g_featuresDef[g_featuresDef['Attribute'] == item].index\n",
    "    g_featuresDef.loc[v_idx, 'Meaning'] = g_featuresDef.loc[v_idx, 'Meaning'].ffill()\n",
    "\n",
    "# Create the new dictionary containing the definition for the column\n",
    "v_featuresDef = g_featuresDef.T.to_dict()   \n",
    "g_featuresDef = {}\n",
    "for value in v_featuresDef.values():\n",
    "    v_key = value['Attribute']\n",
    "    if not v_key in g_featuresDef.keys():\n",
    "        g_featuresDef[v_key] = { 'Description': value['Description'].strip(),\n",
    "                                 'Values':      {} }    \n",
    "        \n",
    "    if 'unknown' in value['Meaning']:\n",
    "        g_featuresDef[v_key]['Value Unknown'] = value['Value Converted']  \n",
    "    \n",
    "    for item in value['Value'].split(','):  \n",
    "        item = utl_toInteger(item.strip())\n",
    "        if not item in g_featuresDef[v_key]['Values'].keys():\n",
    "            g_featuresDef[v_key]['Values'][item] = {}\n",
    "\n",
    "        g_featuresDef[v_key]['Values'][item]['Meaning'] = value['Meaning']\n",
    "        g_featuresDef[v_key]['Values'][item]['Value Converted'] = value['Value Converted']\n",
    "\n",
    "# Force the creation of a value UNKNOWN if none was provided in the definition file\n",
    "for key in g_featuresDef.keys():\n",
    "    if not 'Value Unknown' in g_featuresDef[key].keys():\n",
    "        g_featuresDef[key]['Value Unknown'] = None\n",
    "        \n",
    "# For the mixed columns in the dataset, calculate the splitted features to be used\n",
    "v_columns = [ 'ALTER_HH', 'CAMEO_DEUINTL_2015', 'PRAEGENDE_JUGENDJAHRE',\n",
    "              'D19_BANKEN_DATUM',  'D19_BANKEN_ONLINE_DATUM',  'D19_BANKEN_OFFLINE_DATUM', \n",
    "              'D19_GESAMT_DATUM',  'D19_GESAMT_ONLINE_DATUM',  'D19_GESAMT_OFFLINE_DATUM',\n",
    "              'D19_TELKO_DATUM',   'D19_TELKO_ONLINE_DATUM',   'D19_TELKO_OFFLINE_DATUM',\n",
    "              'D19_VERSAND_DATUM', 'D19_VERSAND_ONLINE_DATUM', 'D19_VERSAND_OFFLINE_DATUM',\n",
    "              'LP_LEBENSPHASE_GROB', 'LP_LEBENSPHASE_FEIN', \n",
    "              'LP_STATUS_GROB',      'LP_STATUS_FEIN', \n",
    "              'LP_FAMILIE_GROB',     'LP_FAMILIE_FEIN' ]\n",
    "for column in v_columns:\n",
    "    v_values = g_featuresDef[column]['Values']\n",
    "    v_valuesConverted = {}\n",
    "    for key, value in v_values.items():\n",
    "        v_valuesConverted[value['Value Converted']] = { '00_Meaning': value['Meaning'] }\n",
    "    g_featuresDef[column]['Split'] = utl_splitMixedColumnValues( p_column       = column, \n",
    "                                                                 p_values       = v_valuesConverted, \n",
    "                                                                 p_valueUnknown = g_featuresDef[column]['Value Unknown'])"
   ]
  },
  {
   "cell_type": "markdown",
   "metadata": {},
   "source": [
    "We check the split for multi-level categorical variables:"
   ]
  },
  {
   "cell_type": "code",
   "execution_count": null,
   "metadata": {},
   "outputs": [],
   "source": [
    "v_data = pd.DataFrame()\n",
    "for columnKey in g_featuresDef.keys():# If columns exists in the definition for a split operation, do the split\n",
    "    if 'Split' in g_featuresDef[columnKey].keys():\n",
    "        v_columns = {key : value['01_Columns'] for key, value in g_featuresDef[columnKey]['Split'].items()}\n",
    "        v_columns = pd.DataFrame(v_columns).T\n",
    "        v_columns.columns = [f'{columnKey}{item}' for item in v_columns.columns]\n",
    "        v_columns.reset_index(inplace = True) \n",
    "        v_columns = v_columns.rename(columns = {'index': f'{columnKey}_MapValue'})             \n",
    "        v_data = pd.concat([v_data, v_columns.head(10)], axis = 1)\n",
    "display(v_data)"
   ]
  },
  {
   "cell_type": "markdown",
   "metadata": {},
   "source": [
    "----\n",
    "### Analysis of categorical features\n",
    "\n",
    "We consider that all values that have the same meaning, should have only one possible value. We will check the definition dictionary and convert all multiple values to only keep the first one.\n",
    "\n",
    "For mixed columns we will use the definition calculated before in order to create the new splitted columns."
   ]
  },
  {
   "cell_type": "code",
   "execution_count": null,
   "metadata": {},
   "outputs": [],
   "source": [
    "v_azdias    = utl_cleanOnDefinition( p_label       = 'Azdias',\n",
    "                                     p_data        = azdias, \n",
    "                                     p_featuresDef = g_featuresDef,\n",
    "                                     p_showHeader  = True )\n",
    "\n",
    "v_customers = utl_cleanOnDefinition( p_label       = 'Customers',\n",
    "                                     p_data        = customers, \n",
    "                                     p_featuresDef = g_featuresDef,\n",
    "                                     p_showHeader  = True )"
   ]
  },
  {
   "cell_type": "markdown",
   "metadata": {},
   "source": [
    "----\n",
    "Column 'EINGEFUEGT_AM' contains an encoding of type timestamp, so we will convert it to a timestamp and extract its components."
   ]
  },
  {
   "cell_type": "code",
   "execution_count": null,
   "metadata": {},
   "outputs": [],
   "source": [
    "display(pd.DataFrame(v_azdias['EINGEFUEGT_AM'].value_counts()).head())\n",
    "utl_processColumns(v_azdias,    'EINGEFUEGT_AM')\n",
    "utl_processColumns(v_customers, 'EINGEFUEGT_AM')\n",
    "display(v_azdias.head())"
   ]
  },
  {
   "cell_type": "markdown",
   "metadata": {},
   "source": [
    "----\n",
    "Try to convert all columns having type object, both which can be encoded as float."
   ]
  },
  {
   "cell_type": "code",
   "execution_count": null,
   "metadata": {},
   "outputs": [],
   "source": [
    "for column in v_azdias.select_dtypes(include=['object']).columns:\n",
    "    try:\n",
    "        v_azdias[column]    = v_azdias[column].astype(np.float16)\n",
    "        v_customers[column] = v_customers[column].astype(np.float16)\n",
    "    except: None"
   ]
  },
  {
   "cell_type": "markdown",
   "metadata": {},
   "source": [
    "----\n",
    "Identify categorical like columns."
   ]
  },
  {
   "cell_type": "code",
   "execution_count": null,
   "metadata": {},
   "outputs": [],
   "source": [
    "v_categoryColumns    = v_azdias.drop(['LNR'], axis = 1).describe().T.reset_index()\n",
    "v_categoryColumns    = v_categoryColumns[(v_categoryColumns['min'] >= -2) & (v_categoryColumns['max'] <= 10)].set_index('index')\n",
    "g_categoricalColumns = v_categoryColumns.index.tolist()"
   ]
  },
  {
   "cell_type": "markdown",
   "metadata": {},
   "source": [
    "----\n",
    "Check columns having type 'object' and do a processing using a custom mapping for the values. Show all the columns for which a mapping **is not** defined."
   ]
  },
  {
   "cell_type": "code",
   "execution_count": null,
   "metadata": {},
   "outputs": [],
   "source": [
    "v_objectCols = v_azdias.select_dtypes(include=['object']).copy()  \n",
    "g_categoricalToProcess = []\n",
    "for column in v_objectCols.columns:    \n",
    "    try:\n",
    "        utl_processColumns(v_objectCols, column)\n",
    "        g_categoricalToProcess.append(column)\n",
    "    except Exception as err: \n",
    "        print('\\n*******************************************************')\n",
    "        print(f'Columns {column} could not be mapped:')    \n",
    "        print(err)\n",
    "        print(sorted(v_objectCols[column].astype(str).value_counts().index.tolist()))\n",
    "        \n",
    "g_categoricalToProcess.append('PRAEGENDE_JUGENDJAHRE_Value_0')\n",
    "g_categoricalToProcess = sorted(set(g_categoricalToProcess))\n",
    "\n",
    "g_categoricalColumns.extend(g_categoricalToProcess)\n",
    "g_categoricalColumns.append('ALTERSKATEGORIE_FEIN')\n",
    "g_categoricalColumns = sorted(set(g_categoricalColumns))\n",
    "\n",
    "print('\\n*******************************************************')\n",
    "print('Columns for which a mapping is defined:')   \n",
    "display(g_categoricalToProcess)"
   ]
  },
  {
   "cell_type": "markdown",
   "metadata": {},
   "source": [
    "----\n",
    "### Analysis of MISSING / UNKNOWN values\n",
    "\n",
    "Calculate all the possible values and their distribution in both dataframes.\n",
    "\n",
    "Missing values could follow a specific pattern, so we take into account that we can have the following situations:\n",
    "   - data is **Missing Completely at Random (MCAR)** - no relationship between the missingness of the data and any values, observed or missing (nothing systematic going on)\n",
    "   - data is **Missing at Random (MAR)** - we have a systematic relationship between the propensity of missing values and the observed data, but not the missing data. Whether an observation is missing has nothing to do with the missing values, but it does have to do with the values of an individual’s observed variables (eg: women are less-likely to tell their age or weight)\n",
    "   - data is **Missing Not at Random (MNAR)** - there is a relationship between the propensity of a value to be missing and its values. This is a case where the people with the lowest education are missing on education."
   ]
  },
  {
   "cell_type": "code",
   "execution_count": null,
   "metadata": {},
   "outputs": [],
   "source": [
    "g_valuesCount = utl_getValuesCount( p_azdias      = v_azdias, \n",
    "                                    p_customers   = v_customers,\n",
    "                                    p_featuresDef = g_featuresDef )"
   ]
  },
  {
   "cell_type": "markdown",
   "metadata": {},
   "source": [
    "------\n",
    "We start by checking for a pattern for **MISSING** values."
   ]
  },
  {
   "cell_type": "code",
   "execution_count": null,
   "metadata": {},
   "outputs": [],
   "source": [
    "v_null = ( g_valuesCount[g_valuesCount['Value'].isnull()]\n",
    "                 .groupby(['Value %_Azdias', 'Value %_Cust'])\n",
    "                 .agg({'Column Name': ['count']}) )\n",
    "v_null.columns = ['Count']\n",
    "display(v_null[v_null['Count'] != 1].sort_values('Count', ascending = False).head(10).reset_index())"
   ]
  },
  {
   "cell_type": "markdown",
   "metadata": {},
   "source": [
    "We can see that as there are multiple cases where we can see a clear correlation between the number of missing values for the different features, so we can consider that the values are **Missing Not at Random (MNAR)**.\n",
    "\n",
    "------\n",
    "We also check for a pattern for **UNKNOWN** values."
   ]
  },
  {
   "cell_type": "code",
   "execution_count": null,
   "metadata": {},
   "outputs": [],
   "source": [
    "v_unknown = ( g_valuesCount[g_valuesCount['_isUnknown'] == 1]\n",
    "                    .groupby(['Value %_Azdias', 'Value %_Cust'])\n",
    "                    .agg({'Column Name': ['count']}) )\n",
    "v_unknown.columns = ['Count']\n",
    "display(v_unknown[v_unknown['Count'] != 1].sort_values('Count', ascending = False).head(10).reset_index())"
   ]
  },
  {
   "cell_type": "markdown",
   "metadata": {},
   "source": [
    "We can see that as there are multiple cases where we can see a clear correlation between the number of unknown values for the different features, so we can consider that the values are **Missing Not at Random (MNAR)**.\n",
    "\n",
    "-----\n",
    "As we know that we are in a MNAR situation, we will execute a **Principal component analysis (PCA)** on both **MISSING** and **UNKNOWN** data in order to identify the missing / unknown flags with a reduced dimensionality."
   ]
  },
  {
   "cell_type": "code",
   "execution_count": null,
   "metadata": {},
   "outputs": [],
   "source": [
    "v_missingAzdias = v_azdias[['LNR']].copy()\n",
    "v_missingCust   = v_customers[['LNR']].copy()\n",
    "\n",
    "v_cols = v_azdias.columns.tolist()\n",
    "with progressbar.ProgressBar(max_value = len(v_cols)) as bar:\n",
    "    v_count = 0\n",
    "    for column in v_cols:\n",
    "        v_missingAzdias[column] = v_azdias[column].isnull().astype(int)\n",
    "        v_missingCust[column]   = v_customers[column].isnull().astype(int)\n",
    "\n",
    "        # In case we have only one value in both dataframes (which means that the column is always filled in) than we remove the\n",
    "        # column as it will not bring any information.\n",
    "        if ( v_missingAzdias[column].value_counts().shape[0] == 1\n",
    "             and v_missingCust[column].value_counts().shape[0] == 1 ):\n",
    "            v_missingAzdias.drop(column, axis = 1, inplace = True)\n",
    "            v_missingCust.drop(column, axis = 1, inplace = True)\n",
    "            \n",
    "        v_count += 1\n",
    "        bar.update(v_count)\n",
    "v_missingAzdias.columns = [f'_isMissing_{item}' for item in v_missingAzdias.columns]\n",
    "        \n",
    "# Save the list of columns for which we will flag if values are missing or not        \n",
    "g_colMissing = v_missingAzdias.columns.tolist()"
   ]
  },
  {
   "cell_type": "code",
   "execution_count": null,
   "metadata": {},
   "outputs": [],
   "source": [
    "v_unknownAzdias = v_azdias[['AGER_TYP']].copy()\n",
    "v_unknownCust   = v_customers[['AGER_TYP']].copy()\n",
    "\n",
    "g_colUnknownVals = {}\n",
    "for column in g_valuesCount[g_valuesCount['_isUnknown'] == 1]['Column Name'].tolist():\n",
    "    g_colUnknownVals[column] = g_valuesCount[   (g_valuesCount['_isUnknown'] == 1) \n",
    "                                              & (g_valuesCount['Column Name'] == column) ]['Value'].values[0]\n",
    "\n",
    "v_cols = g_colUnknownVals.keys()\n",
    "with progressbar.ProgressBar(max_value = len(v_cols)) as bar:\n",
    "    v_count = 0\n",
    "    for column in v_cols:\n",
    "        v_value = g_colUnknownVals[column]\n",
    "        v_unknownAzdias[column] = v_azdias[column].fillna(-999).apply(lambda x: 1 if x == v_value else 0 )\n",
    "        v_unknownCust[column]   = v_customers[column].fillna(-999).apply(lambda x: 1 if x == v_value else 0 )\n",
    "\n",
    "        # In case we have only one value in both dataframes (which means that the column is always known) than we remove the\n",
    "        # column as it will not bring any information.\n",
    "        if ( v_unknownAzdias[column].value_counts().shape[0] == 1\n",
    "             and v_unknownCust[column].value_counts().shape[0] == 1 ):\n",
    "            v_unknownAzdias.drop(column, axis = 1, inplace = True)\n",
    "            v_unknownCust.drop(column, axis = 1, inplace = True)\n",
    "            \n",
    "        v_count += 1\n",
    "        bar.update(v_count)       \n",
    "v_unknownAzdias.columns = [f'_isUnknown_{item}' for item in v_unknownAzdias.columns]"
   ]
  },
  {
   "cell_type": "markdown",
   "metadata": {},
   "source": [
    "---\n",
    "Calculate the PCA for **MISSING** and **UNKNOWN** values and show the report for the weights."
   ]
  },
  {
   "cell_type": "code",
   "execution_count": null,
   "metadata": {},
   "outputs": [],
   "source": [
    "v_missingUnknownAzdias = pd.concat([v_missingAzdias, v_unknownAzdias], axis = 1)\n",
    "g_pcaMissingUnknown = utl_applyPCA( p_data         = v_missingUnknownAzdias,\n",
    "                                    p_n_components = 60,\n",
    "                                    p_ShowWeights  = True,\n",
    "                                    p_ShowTop      = 6,\n",
    "                                    p_figHeight    = 24 )"
   ]
  },
  {
   "cell_type": "markdown",
   "metadata": {},
   "source": [
    "Based of the visualisation above, we will select **20 dimensions** for the PCA, as they capture almost 100% of the total variance for unknown and missing values. \n",
    "We do a retrain for the PCA with the selected number of components, and save the trained PCA."
   ]
  },
  {
   "cell_type": "code",
   "execution_count": null,
   "metadata": {},
   "outputs": [],
   "source": [
    "g_pcaMissingUnknown = utl_applyPCA( p_data         = v_missingUnknownAzdias,\n",
    "                                    p_n_components = 20 )"
   ]
  },
  {
   "cell_type": "markdown",
   "metadata": {},
   "source": [
    "-----------\n",
    "### Fill-in missing values\n",
    "\n",
    "We first re-encode some categorical columns."
   ]
  },
  {
   "cell_type": "code",
   "execution_count": null,
   "metadata": {},
   "outputs": [],
   "source": [
    "for item in g_categoricalToProcess:\n",
    "    utl_processColumns(v_azdias, item)\n",
    "    utl_processColumns(v_customers, item)"
   ]
  },
  {
   "cell_type": "markdown",
   "metadata": {},
   "source": [
    "---\n",
    "Dummy encode the object columns not re-encoded above."
   ]
  },
  {
   "cell_type": "code",
   "execution_count": null,
   "metadata": {},
   "outputs": [],
   "source": [
    "g_dummyEncode = {}\n",
    "for column in v_azdias.select_dtypes(include=['object']).columns:\n",
    "    v_azdias[column] = v_azdias[column].str.replace('/', '-').str.replace(' ', '_')\n",
    "    v_dummy = pd.get_dummies(v_azdias[[column]])\n",
    "    g_dummyEncode[column] = v_dummy.columns.tolist()"
   ]
  },
  {
   "cell_type": "code",
   "execution_count": null,
   "metadata": {},
   "outputs": [],
   "source": [
    "def replaceDummy(p_data, p_column, p_dummyEncode):\n",
    "    if p_column not in p_data.columns: \n",
    "        for column in p_dummyEncode[p_column]:\n",
    "            p_data[column] = 0\n",
    "        return p_data\n",
    "    \n",
    "    p_data[p_column] = p_data[p_column].str.replace('/', '-').str.replace(' ', '_')\n",
    "    p_data = pd.get_dummies(p_data, columns = [p_column])\n",
    "    \n",
    "    v_cols = [item for item in p_data.columns if (p_column in item and item not in p_dummyEncode[p_column])]\n",
    "    if len(v_cols) > 0:\n",
    "        p_data.drop(v_cols, axis = 1, inplace = True)\n",
    "    \n",
    "    for column in [item for item in p_dummyEncode[p_column] if item not in p_data.columns]:\n",
    "        p_data[column] = 0\n",
    "    \n",
    "    return p_data\n",
    "     \n",
    "for column in list(g_dummyEncode.keys()):\n",
    "    v_azdias    = replaceDummy( p_data        = v_azdias, \n",
    "                                p_column      = column, \n",
    "                                p_dummyEncode = g_dummyEncode )\n",
    "    v_customers = replaceDummy( p_data        = v_customers, \n",
    "                                p_column      = column, \n",
    "                                p_dummyEncode = g_dummyEncode )"
   ]
  },
  {
   "cell_type": "markdown",
   "metadata": {},
   "source": [
    "---\n",
    "Fill in columns that are categorical with their unknown value or -2."
   ]
  },
  {
   "cell_type": "code",
   "execution_count": null,
   "metadata": {},
   "outputs": [],
   "source": [
    "with progressbar.ProgressBar(max_value = len(g_categoricalColumns)) as bar:\n",
    "    v_count = 0\n",
    "    for column in g_categoricalColumns:\n",
    "        v_azdias[column]    = v_azdias[column].fillna(-2).astype(int)\n",
    "        v_customers[column] = v_customers[column].fillna(-2).astype(int)\n",
    "        v_count += 1\n",
    "        bar.update(v_count)"
   ]
  },
  {
   "cell_type": "markdown",
   "metadata": {},
   "source": [
    "---\n",
    "Check the columns that still have empty values."
   ]
  },
  {
   "cell_type": "code",
   "execution_count": null,
   "metadata": {},
   "outputs": [],
   "source": [
    "v_dummyEncode = []\n",
    "for value in g_dummyEncode.values():\n",
    "    v_dummyEncode.extend(value)\n",
    "display(sorted([item for item in v_azdias.columns if (item not in g_categoricalColumns and item not in v_dummyEncode)]))"
   ]
  },
  {
   "cell_type": "code",
   "execution_count": null,
   "metadata": {},
   "outputs": [],
   "source": [
    "v_missingAzdias = pd.DataFrame({'Null Value': 0}, index = ['LNR'])\n",
    "v_missingCust   = pd.DataFrame({'Null Value': 0}, index = ['LNR'])\n",
    "for column in v_azdias.columns:\n",
    "    v_missingAzdias.loc[column, 'Null Value'] = v_azdias[column].isnull().sum()\n",
    "    v_missingCust.loc[column, 'Null Value']   = v_customers[column].isnull().sum()\n",
    "v_missing = ( v_missingAzdias[v_missingAzdias['Null Value'] > 0]\n",
    "                 .merge( v_missingCust[v_missingCust['Null Value'] > 0], \n",
    "                         how = 'outer', left_index = True, right_index = True,\n",
    "                         suffixes = ('_Azdias', '_Cust') ) )\n",
    "display(v_missing)"
   ]
  },
  {
   "cell_type": "markdown",
   "metadata": {},
   "source": [
    "-------------\n",
    "### Check for highly correlated features"
   ]
  },
  {
   "cell_type": "code",
   "execution_count": null,
   "metadata": {},
   "outputs": [],
   "source": [
    "# Create correlation matrix\n",
    "v_corr_matrix = v_azdias.drop('LNR', axis = 1).corr().abs()\n",
    "\n",
    "# Select upper triangle of correlation matrix\n",
    "v_upper = v_corr_matrix.where(np.triu(np.ones(v_corr_matrix.shape), k = 1).astype(np.bool))\n",
    "\n",
    "# Find index of feature columns with correlation greater than 0.95\n",
    "v_to_drop = [column for column in v_upper.columns if any(v_upper[column] > 0.95)]\n",
    "\n",
    "for column in v_to_drop:\n",
    "    v_value = v_corr_matrix.drop(column, axis = 1).loc[column, :]\n",
    "    v_value = v_value[v_value > 0.97]\n",
    "    if v_value.shape[0] > 0: display(pd.DataFrame(v_value))"
   ]
  },
  {
   "cell_type": "code",
   "execution_count": null,
   "metadata": {},
   "outputs": [],
   "source": [
    "g_highlyCorrelated = [ \"DSL_FLAG\", \"ALTER_HH_Value_1\", \"EINGEFUEGT_AM_Year\", \"EINGEFUEGT_AM_Month\", \"EINGEFUEGT_AM_Quarter\", \n",
    "                       \"EINGEFUEGT_AM_Hour\", \"EINGEFUEGT_AM_Minute\", \"EINGEFUEGT_AM_Second\", \"EINGEFUEGT_AM_WeekOfYear\", \n",
    "                       \"LP_LEBENSPHASE_GROB_Value_FAMILY\", \"LP_LEBENSPHASE_FEIN_Value_FAMILY\", \"ANZ_TITEL\", \n",
    "                       \"ANZ_STATISTISCHE_HAUSHALTE\", \"PLZ8_HHZ\", \"PLZ8_GBZ\", \"KBA13_SEG_GROSSRAUMVANS\", \"KBA13_KMH_211\", \n",
    "                       \"KBA13_ALTERHALTER_61\", \"KBA13_ALTERHALTER_60\", \"KBA13_ALTERHALTER_45\", \"KBA13_ALTERHALTER_30\", \n",
    "                       \"KBA05_KRSKLEIN\", \"KBA05_HERST3\", \"KBA05_HERST2\" ]"
   ]
  },
  {
   "cell_type": "markdown",
   "metadata": {},
   "source": [
    "--------\n",
    "### Save all global variables / models for further use."
   ]
  },
  {
   "cell_type": "code",
   "execution_count": null,
   "metadata": {},
   "outputs": [],
   "source": [
    "joblib.dump(g_pcaMissingUnknown, g_saveFilenames['pcaMissingUnknown'])\n",
    "\n",
    "with open(g_saveFilenames['featuresDef'], 'w') as outfile:\n",
    "    json.dump(g_featuresDef, outfile)\n",
    "    \n",
    "with open(g_saveFilenames['categoricalColumns'], 'w') as outfile:\n",
    "    json.dump(g_categoricalColumns, outfile)\n",
    "    \n",
    "with open(g_saveFilenames['categoricalToProcess'], 'w') as outfile:\n",
    "    json.dump(g_categoricalToProcess, outfile)\n",
    "    \n",
    "with open(g_saveFilenames['dummyEncode'], 'w') as outfile:\n",
    "    json.dump(g_dummyEncode, outfile)\n",
    "    \n",
    "with open(g_saveFilenames['highlyCorrelated'], 'w') as outfile:\n",
    "    json.dump(g_highlyCorrelated, outfile)\n",
    "    \n",
    "with open(g_saveFilenames['colMissing'], 'w') as outfile:\n",
    "    json.dump(g_colMissing, outfile)\n",
    "    \n",
    "with open(g_saveFilenames['colUnknownVals'], 'w') as outfile:\n",
    "    json.dump(g_colUnknownVals, outfile)"
   ]
  },
  {
   "cell_type": "markdown",
   "metadata": {},
   "source": [
    "-----------\n",
    "-------------\n",
    "----------"
   ]
  },
  {
   "cell_type": "markdown",
   "metadata": {},
   "source": [
    "## Part 1: Customer Segmentation Report\n",
    "\n",
    "The main bulk of your analysis will come in this part of the project. Here, you should use unsupervised learning techniques to describe the relationship between the demographics of the company's existing customers and the general population of Germany. By the end of this part, you should be able to describe parts of the general population that are more likely to be part of the mail-order company's main customer base, and which parts of the general population are less so."
   ]
  },
  {
   "cell_type": "markdown",
   "metadata": {},
   "source": [
    "------\n",
    "### Clean both datasets\n",
    "\n",
    "Based on finding above, we will create a cleaning procedure that we will apply on all future datasets having the same format.\n",
    "\n",
    "For the cleaning of datasets, we will execute the following operations:\n",
    "   1. **clean data based on the definition** - only one possible value will be kept when there were multiple values specififed for the same row in the definitions\n",
    "   2. re-encode categorical features\n",
    "   3. apply the Principal Component Analysis for the **missing values**, by using the trained PCA from above\n",
    "   4. apply the Principal Component Analysis for the **unknow values**, by using the trained PCA from above\n",
    "   5. fill in categorical columns with -2\n",
    "   6. drop features identified as highly correlated\n",
    "   7. calculate columns to be imputed later\n",
    "   8. calculate columns to be scaled later"
   ]
  },
  {
   "cell_type": "code",
   "execution_count": 136,
   "metadata": {},
   "outputs": [
    {
     "name": "stderr",
     "output_type": "stream",
     "text": [
      "D:\\___winApp\\Anaconda3\\lib\\site-packages\\IPython\\core\\interactiveshell.py:2785: DtypeWarning: Columns (19,20) have mixed types. Specify dtype option on import or set low_memory=False.\n",
      "  interactivity=interactivity, compiler=compiler, result=result)\n"
     ]
    },
    {
     "name": "stdout",
     "output_type": "stream",
     "text": [
      "\n",
      "********************************************************************************************\n"
     ]
    },
    {
     "data": {
      "text/markdown": [
       "Reduce memory usage for dataframe **<span style=\"color: blue\">Azdias</span>**."
      ],
      "text/plain": [
       "<IPython.core.display.Markdown object>"
      ]
     },
     "metadata": {},
     "output_type": "display_data"
    },
    {
     "name": "stdout",
     "output_type": "stream",
     "text": [
      "Initial memory usage is 2488.61 MBs.\n",
      "<class 'pandas.core.frame.DataFrame'>\n",
      "RangeIndex: 891221 entries, 0 to 891220\n",
      "Columns: 366 entries, LNR to ALTERSKATEGORIE_GROB\n",
      "dtypes: float64(267), int64(93), object(6)\n",
      "memory usage: 2.4+ GB\n",
      "None\n"
     ]
    },
    {
     "name": "stderr",
     "output_type": "stream",
     "text": [
      "100% (366 of 366) |######################| Elapsed Time: 0:03:02 Time:  0:03:02\n"
     ]
    },
    {
     "name": "stdout",
     "output_type": "stream",
     "text": [
      "\n",
      "Final memory usage is 577.11 MBs.\n",
      "This is 23.19% of the initial size.\n",
      "\n",
      "<class 'pandas.core.frame.DataFrame'>\n",
      "RangeIndex: 891221 entries, 0 to 891220\n",
      "Columns: 366 entries, LNR to ALTERSKATEGORIE_GROB\n",
      "dtypes: float16(267), int8(4), object(6), uint16(1), uint32(1), uint8(87)\n",
      "memory usage: 577.1+ MB\n",
      "None\n",
      "\n",
      "********************************************************************************************\n"
     ]
    },
    {
     "data": {
      "text/markdown": [
       "Reduce memory usage for dataframe **<span style=\"color: blue\">Customers</span>**."
      ],
      "text/plain": [
       "<IPython.core.display.Markdown object>"
      ]
     },
     "metadata": {},
     "output_type": "display_data"
    },
    {
     "name": "stdout",
     "output_type": "stream",
     "text": [
      "Initial memory usage is 539.55 MBs.\n",
      "<class 'pandas.core.frame.DataFrame'>\n",
      "RangeIndex: 191652 entries, 0 to 191651\n",
      "Columns: 369 entries, LNR to ALTERSKATEGORIE_GROB\n",
      "dtypes: float64(267), int64(94), object(8)\n",
      "memory usage: 539.5+ MB\n",
      "None\n"
     ]
    },
    {
     "name": "stderr",
     "output_type": "stream",
     "text": [
      "100% (369 of 369) |######################| Elapsed Time: 0:00:39 Time:  0:00:39\n"
     ]
    },
    {
     "name": "stdout",
     "output_type": "stream",
     "text": [
      "\n",
      "Final memory usage is 127.21 MBs.\n",
      "This is 23.58% of the initial size.\n",
      "\n",
      "<class 'pandas.core.frame.DataFrame'>\n",
      "RangeIndex: 191652 entries, 0 to 191651\n",
      "Columns: 369 entries, LNR to ALTERSKATEGORIE_GROB\n",
      "dtypes: float16(267), int8(4), object(8), uint16(1), uint32(1), uint8(88)\n",
      "memory usage: 127.2+ MB\n",
      "None\n"
     ]
    }
   ],
   "source": [
    "for path in [ '../Arvato Project - dataSensitive', '../../data/Term2/capstone/arvato_data' ]:\n",
    "    try:\n",
    "        azdias    = pd.read_csv(f'{path}/Udacity_AZDIAS_052018.csv', sep=';').drop('Unnamed: 0', axis = 1)        \n",
    "        customers = pd.read_csv(f'{path}/Udacity_CUSTOMERS_052018.csv', sep=';').drop('Unnamed: 0', axis = 1)      \n",
    "        break\n",
    "    except err as Exception: \n",
    "        print(path, err)\n",
    "        \n",
    "utl_reduceMemoryUsage('Azdias', azdias)\n",
    "utl_reduceMemoryUsage('Customers', customers)"
   ]
  },
  {
   "cell_type": "code",
   "execution_count": null,
   "metadata": {
    "scrolled": true
   },
   "outputs": [
    {
     "name": "stdout",
     "output_type": "stream",
     "text": [
      "\n",
      "********************************************************************************************\n"
     ]
    },
    {
     "data": {
      "text/markdown": [
       "START Clean dataframe **<span style=\"color: blue\">Azdias</span>**."
      ],
      "text/plain": [
       "<IPython.core.display.Markdown object>"
      ]
     },
     "metadata": {},
     "output_type": "display_data"
    },
    {
     "data": {
      "text/markdown": [
       "Clean dataframe **<span style=\"color: blue\">Azdias</span>** based on definition."
      ],
      "text/plain": [
       "<IPython.core.display.Markdown object>"
      ]
     },
     "metadata": {},
     "output_type": "display_data"
    },
    {
     "data": {
      "text/markdown": [
       "Re-encode columns values based on definition."
      ],
      "text/plain": [
       "<IPython.core.display.Markdown object>"
      ]
     },
     "metadata": {},
     "output_type": "display_data"
    },
    {
     "name": "stderr",
     "output_type": "stream",
     "text": [
      "  5% (17 of 314) |#                      | Elapsed Time: 0:01:25 ETA:   0:35:45"
     ]
    }
   ],
   "source": [
    "# Load variables saved earlier\n",
    "v_pcaMissingUnknown = joblib.load(g_saveFilenames['pcaMissingUnknown'])\n",
    "\n",
    "with open(g_saveFilenames['featuresDef'], 'r') as inFile:\n",
    "    v_featuresDef = json.load(inFile)\n",
    "    \n",
    "with open(g_saveFilenames['categoricalColumns'], 'r') as inFile:\n",
    "    v_categoricalColumns = json.load(inFile)\n",
    "    \n",
    "with open(g_saveFilenames['categoricalToProcess'], 'r') as inFile:\n",
    "    v_categoricalToProcess = json.load(inFile)\n",
    "    \n",
    "with open(g_saveFilenames['dummyEncode'], 'r') as inFile:\n",
    "    v_dummyEncode = json.load(inFile)\n",
    "    \n",
    "with open(g_saveFilenames['highlyCorrelated'], 'r') as inFile:\n",
    "    v_highlyCorrelated = json.load(inFile)\n",
    "    \n",
    "with open(g_saveFilenames['colMissing'], 'r') as inFile:\n",
    "    v_colMissing = json.load(inFile)\n",
    "    \n",
    "with open(g_saveFilenames['colUnknownVals'], 'r') as inFile:\n",
    "    v_colUnknownVals = json.load(inFile)\n",
    "    \n",
    "v_azdias, v_missing, v_scaleColumns = utl_cleanDataFrame( p_label                 = 'Azdias', \n",
    "                                                          p_data                  = azdias, \n",
    "                                                          p_featuresDef           = v_featuresDef, \n",
    "                                                          p_categoricalColumns    = v_categoricalColumns, \n",
    "                                                          p_categoricalToProcess  = v_categoricalToProcess, \n",
    "                                                          p_dummyEncode           = v_dummyEncode, \n",
    "                                                          p_highlyCorrelated      = v_highlyCorrelated, \n",
    "                                                          p_pcaMissingUnknown     = v_pcaMissingUnknown, \n",
    "                                                          p_colMissing            = v_colMissing, \n",
    "                                                          p_colUnknownVals        = v_colUnknownVals,\n",
    "                                                          p_ignoreScale           = [ 'LNR' ] )\n",
    "    \n",
    "v_customers, _, _ = utl_cleanDataFrame( p_label                 = 'Customers', \n",
    "                                        p_data                  = customers, \n",
    "                                        p_featuresDef           = v_featuresDef, \n",
    "                                        p_categoricalColumns    = v_categoricalColumns, \n",
    "                                        p_categoricalToProcess  = v_categoricalToProcess, \n",
    "                                        p_dummyEncode           = v_dummyEncode, \n",
    "                                        p_highlyCorrelated      = v_highlyCorrelated, \n",
    "                                        p_pcaMissingUnknown     = v_pcaMissingUnknown, \n",
    "                                        p_colMissing            = v_colMissing, \n",
    "                                        p_colUnknownVals        = v_colUnknownVals,\n",
    "                                        p_ignoreScale           = [ 'LNR' ] )"
   ]
  },
  {
   "cell_type": "markdown",
   "metadata": {},
   "source": [
    "Check the number of records in both datasets and display the columns which are missing in one of the two datasets."
   ]
  },
  {
   "cell_type": "code",
   "execution_count": null,
   "metadata": {},
   "outputs": [],
   "source": [
    "print(f'Number of records / features in the general population dataset: {v_azdias.shape}')\n",
    "print(f'Number of records / features in the customers dataset:          {v_customers.shape}')\n",
    "print('')\n",
    "print('Columns only available in the general population dataset:', [item for item in v_azdias.columns if item not in v_customers.columns])\n",
    "print('Columns only available in the customers dataset:',          [item for item in v_customers.columns if item not in v_azdias.columns])"
   ]
  },
  {
   "cell_type": "markdown",
   "metadata": {},
   "source": [
    "### Apply PCA on general population"
   ]
  },
  {
   "cell_type": "code",
   "execution_count": null,
   "metadata": {},
   "outputs": [],
   "source": [
    "def utl_scaleImpute(X_data, p_imputeColumns, p_scaleColumns, p_scalers = None):\n",
    "    X_data = X_data.copy()\n",
    "    v_imputeColumns = [column for column in p_imputeColumns if column in X_data.columns]\n",
    "    v_scaleColumns  = [column for column in p_scaleColumns  if column in X_data.columns]\n",
    "    \n",
    "    for column in v_imputeColumns:\n",
    "        v_values = X_data[column].astype(float).values.reshape(-1, 1)\n",
    "        if np.isnan(v_values).all():\n",
    "            X_data[column] = -999\n",
    "        else:            \n",
    "            try:\n",
    "                X_data[column] = Imputer(strategy = 'mean', axis = 0).fit_transform(v_values)\n",
    "            except:\n",
    "                values = [np.unique(-999 if np.isnan(ll).all() else ll) for ll in v_values.reshape(1, -1)]\n",
    "                print(column, min(values))\n",
    "                raise\n",
    "    \n",
    "    if p_scalers is None:\n",
    "        p_scalers = {}\n",
    "        for column in v_scaleColumns:\n",
    "            v_values = X_data[column].value_counts(dropna = True).index.tolist()\n",
    "            p_scalers[column] = Scaler().fit(np.array(v_values).reshape(-1, 1))\n",
    "    \n",
    "    for column in v_scaleColumns:\n",
    "        X_data[column] = p_scalers[column].transform(X_data[column].values.reshape(-1, 1) )\n",
    "    \n",
    "    return X_data, p_scalers\n",
    "\n",
    "X_azdias, v_scalers = utl_scaleImpute( X_data          = v_azdias.drop(['LNR'], axis = 1), \n",
    "                                       p_imputeColumns = v_missing, \n",
    "                                       p_scaleColumns  = v_scaleColumns,\n",
    "                                       p_scalers       = None )\n",
    "\n",
    "X_customers, _      = utl_scaleImpute( X_data          = v_customers.drop([ 'LNR',\n",
    "                                                                            'PRODUCT_GROUP', \n",
    "                                                                            'CUSTOMER_GROUP', \n",
    "                                                                            'ONLINE_PURCHASE' ], axis = 1), \n",
    "                                       p_imputeColumns = v_missing, \n",
    "                                       p_scaleColumns  = v_scaleColumns,\n",
    "                                       p_scalers       = v_scalers )\n",
    "\n",
    "g_pcaAzdias = utl_applyPCA( p_data         = X_azdias,\n",
    "                            p_n_components = 120,\n",
    "                            p_ShowWeights  = True,\n",
    "                            p_ShowTop      = 6,\n",
    "                            p_figHeight    = 24 )"
   ]
  },
  {
   "cell_type": "markdown",
   "metadata": {},
   "source": [
    "We can see that 100 dimension capture 90% of the variance, so we refit the pca with 100 components."
   ]
  },
  {
   "cell_type": "code",
   "execution_count": 88,
   "metadata": {},
   "outputs": [
    {
     "data": {
      "image/png": "[encoded data removed]",
      "text/plain": [
       "<Figure size 1152x432 with 1 Axes>"
      ]
     },
     "metadata": {},
     "output_type": "display_data"
    },
    {
     "data": {
      "image/png": "[encoded data removed]",
      "text/plain": [
       "<Figure size 1440x1728 with 2 Axes>"
      ]
     },
     "metadata": {},
     "output_type": "display_data"
    }
   ],
   "source": [
    "g_pcaAzdias = utl_applyPCA( p_data         = X_azdias,\n",
    "                            p_n_components = 100,\n",
    "                            p_ShowWeights  = True,\n",
    "                            p_ShowTop      = 6,\n",
    "                            p_figHeight    = 24 )"
   ]
  },
  {
   "cell_type": "markdown",
   "metadata": {},
   "source": [
    "We transform both datasets, so that we can than execute the clustering."
   ]
  },
  {
   "cell_type": "code",
   "execution_count": 89,
   "metadata": {},
   "outputs": [],
   "source": [
    "X_pca_azdias    = g_pcaAzdias.transform(X_azdias)\n",
    "X_pca_customers = g_pcaAzdias.transform(X_customers)"
   ]
  },
  {
   "cell_type": "markdown",
   "metadata": {},
   "source": [
    "--------\n",
    "### Fit clusters using Gaussian mixture\n",
    "\n",
    "In order to correct the overfitting, we adjust the model likelihoods using some analytic criterion such as the Akaike information criterion (AIC) or the Bayesian information criterion (BIC)."
   ]
  },
  {
   "cell_type": "code",
   "execution_count": null,
   "metadata": {},
   "outputs": [],
   "source": [
    "v_data = pd.DataFrame()\n",
    "for clusterNo in range(2, 30, 2):\n",
    "    v_model = GaussianMixture(clusterNo, covariance_type='full', random_state = 2013).fit(X_pca_azdias)\n",
    "    v_data.loc[clusterNo, 'Clusters'] = clusterNo\n",
    "    v_data.loc[clusterNo, 'BIC']      = v_model.bic(X_pca_azdias)\n",
    "    v_data.loc[clusterNo, 'AIC']      = v_model.aic(X_pca_azdias)\n",
    "plt.plot(v_data['Clusters'], v_data['BIC'], label='BIC')\n",
    "plt.plot(v_data['Clusters'], v_data['AIC'], label='AIC')\n",
    "plt.show()"
   ]
  },
  {
   "cell_type": "markdown",
   "metadata": {},
   "source": [
    "The optimal number of clusters is the value that minimizes the AIC or BIC, depending on which approximation we wish to use.\n",
    "\n",
    "The AIC tells us that around ... components are an optimal choice.\n",
    "\n",
    "BIC recommends a simpler model.\n",
    "\n",
    "We also check that the model has converged."
   ]
  },
  {
   "cell_type": "code",
   "execution_count": null,
   "metadata": {},
   "outputs": [],
   "source": [
    "v_gmm = GaussianMixture(6, covariance_type='full', random_state=0)\n",
    "v_gmm.fit(X_pca_azdias)\n",
    "print('Has the model converged?', v_gmm.converged_)"
   ]
  },
  {
   "cell_type": "markdown",
   "metadata": {},
   "source": [
    "We plot the clusters by using the first 2 components calculated by the PCA."
   ]
  },
  {
   "cell_type": "code",
   "execution_count": null,
   "metadata": {},
   "outputs": [],
   "source": [
    "v_labels = v_gmm.predict(X_pca_azdias)\n",
    "plt.scatter(X_pca_azdias[:, 0], X_pca_azdias[:, 1], c = v_labels, s = 40, cmap = 'viridis')\n",
    "plt.show()"
   ]
  },
  {
   "cell_type": "code",
   "execution_count": null,
   "metadata": {},
   "outputs": [],
   "source": [
    "We also check the distribution of probabilities."
   ]
  },
  {
   "cell_type": "code",
   "execution_count": null,
   "metadata": {},
   "outputs": [],
   "source": [
    "v_probs = v_gmm.predict_proba(X_pca_azdias)\n",
    "plt.hist(v_probs)\n",
    "plt.show()"
   ]
  },
  {
   "cell_type": "code",
   "execution_count": null,
   "metadata": {},
   "outputs": [],
   "source": []
  },
  {
   "cell_type": "code",
   "execution_count": null,
   "metadata": {},
   "outputs": [],
   "source": []
  },
  {
   "cell_type": "code",
   "execution_count": null,
   "metadata": {},
   "outputs": [],
   "source": []
  },
  {
   "cell_type": "markdown",
   "metadata": {},
   "source": [
    "--------\n",
    "### Fit Gaussian mixture with EM \n",
    "\n",
    "We fit a Fit Gaussian mixture with EM using ... components."
   ]
  },
  {
   "cell_type": "code",
   "execution_count": 95,
   "metadata": {},
   "outputs": [],
   "source": [
    "def utl_plotClusterResults(X, Y_, p_means, p_covariances, p_index, p_title, p_color_iter):\n",
    "    splot = plt.subplot(2, 1, 1 + p_index)\n",
    "    for i, (mean, covar, color) in enumerate(zip(p_means, p_covariances, p_color_iter)):\n",
    "        v, w = linalg.eigh(covar)\n",
    "        v = 2. * np.sqrt(2.) * np.sqrt(v)\n",
    "        u = w[0] / linalg.norm(w[0])\n",
    "        # as the DP will not use every component it has access to unless it needs it, we shouldn't plot the redundant\n",
    "        # components.\n",
    "        if not np.any(Y_ == i): continue\n",
    "        plt.scatter(X[Y_ == i, 0], X[Y_ == i, 1], .8, color=color)\n",
    "\n",
    "        # Plot an ellipse to show the Gaussian component\n",
    "        angle = np.arctan(u[1] / u[0])\n",
    "        angle = 180. * angle / np.pi  # convert to degrees\n",
    "        ell = mpl.patches.Ellipse(mean, v[0], v[1], 180. + angle, color=color)\n",
    "        ell.set_clip_box(splot.bbox)\n",
    "        ell.set_alpha(0.5)\n",
    "        splot.add_artist(ell)\n",
    "    plt.xlim(-9., 5.)\n",
    "    plt.ylim(-3., 6.)\n",
    "    plt.xticks(())\n",
    "    plt.yticks(())\n",
    "    plt.title(p_title)\n",
    "    return\n",
    "\n",
    "g_color_iter = itertools.cycle(['navy', 'blue', 'red', 'cornflowerblue', 'gold', 'darkorange', 'blue', 'r'])"
   ]
  },
  {
   "cell_type": "code",
   "execution_count": 135,
   "metadata": {},
   "outputs": [
    {
     "data": {
      "image/png": "[encoded data removed]",
      "text/plain": [
       "<Figure size 432x288 with 1 Axes>"
      ]
     },
     "metadata": {},
     "output_type": "display_data"
    }
   ],
   "source": [
    "# Plot the data with K Means Labels\n",
    "from sklearn.cluster import KMeans\n",
    "import seaborn as sns; sns.set()\n",
    "\n",
    "kmeans = KMeans(6, random_state = 2013)\n",
    "labels = kmeans.fit(X_pca_azdias).predict(X_pca_azdias)\n",
    "plt.scatter(X_pca_azdias[:, 0], X_pca_azdias[:, 1], c = labels, s = 40, cmap='viridis');"
   ]
  },
  {
   "cell_type": "code",
   "execution_count": 102,
   "metadata": {},
   "outputs": [
    {
     "data": {
      "image/png": "[encoded data removed]",
      "text/plain": [
       "<Figure size 432x288 with 1 Axes>"
      ]
     },
     "metadata": {},
     "output_type": "display_data"
    }
   ],
   "source": [
    "from sklearn.cluster import KMeans\n",
    "from scipy.spatial.distance import cdist\n",
    "\n",
    "def plot_kmeans(kmeans, X, n_clusters=4, rseed=0, ax=None):\n",
    "    labels = kmeans.fit_predict(X)\n",
    "\n",
    "    # plot the input data\n",
    "    ax = ax or plt.gca()\n",
    "    ax.axis('equal')\n",
    "    ax.scatter(X[:, 0], X[:, 1], c=labels, s=40, cmap='viridis', zorder=2)\n",
    "\n",
    "    # plot the representation of the KMeans model\n",
    "    centers = kmeans.cluster_centers_\n",
    "    radii = [cdist(X[labels == i], [center]).max()\n",
    "             for i, center in enumerate(centers)]\n",
    "    for c, r in zip(centers, radii):\n",
    "        ax.add_patch(plt.Circle(c, r, fc='#CCCCCC', lw=3, alpha=0.5, zorder=1))\n",
    "\n",
    "kmeans = KMeans(n_clusters=4, random_state=0)\n",
    "plot_kmeans(kmeans, X_pca_azdias)"
   ]
  },
  {
   "cell_type": "code",
   "execution_count": 131,
   "metadata": {},
   "outputs": [
    {
     "data": {
      "image/png": "[encoded data removed]",
      "text/plain": [
       "<Figure size 432x288 with 1 Axes>"
      ]
     },
     "metadata": {},
     "output_type": "display_data"
    }
   ],
   "source": [
    "from sklearn.mixture import GaussianMixture\n",
    "gmm = GaussianMixture(n_components=6).fit(X_pca_azdias)\n"
   ]
  },
  {
   "cell_type": "code",
   "execution_count": 133,
   "metadata": {},
   "outputs": [
    {
     "name": "stdout",
     "output_type": "stream",
     "text": [
      "[[0. 0. 1. 0. 0. 0.]\n",
      " [0. 0. 0. 0. 0. 1.]\n",
      " [0. 0. 0. 1. 0. 0.]\n",
      " [0. 0. 0. 0. 1. 0.]\n",
      " [1. 0. 0. 0. 0. 0.]\n",
      " [1. 0. 0. 0. 0. 0.]\n",
      " [0. 0. 0. 0. 1. 0.]\n",
      " [0. 0. 0. 0. 1. 0.]\n",
      " [0. 0. 0. 0. 0. 1.]\n",
      " [1. 0. 0. 0. 0. 0.]\n",
      " [0. 0. 0. 1. 0. 0.]\n",
      " [0. 0. 1. 0. 0. 0.]\n",
      " [1. 0. 0. 0. 0. 0.]\n",
      " [1. 0. 0. 0. 0. 0.]\n",
      " [0. 0. 1. 0. 0. 0.]\n",
      " [0. 0. 1. 0. 0. 0.]\n",
      " [0. 1. 0. 0. 0. 0.]\n",
      " [0. 0. 1. 0. 0. 0.]\n",
      " [0. 0. 0. 0. 0. 1.]\n",
      " [0. 0. 0. 0. 0. 1.]]\n"
     ]
    }
   ],
   "source": [
    "\n",
    "print(probs[:20].round(3))"
   ]
  },
  {
   "cell_type": "code",
   "execution_count": 129,
   "metadata": {},
   "outputs": [
    {
     "name": "stderr",
     "output_type": "stream",
     "text": [
      "D:\\___winApp\\Anaconda3\\lib\\site-packages\\ipykernel_launcher.py:14: RuntimeWarning: invalid value encountered in sqrt\n",
      "  \n"
     ]
    },
    {
     "ename": "ValueError",
     "evalue": "too many values to unpack (expected 2)",
     "output_type": "error",
     "traceback": [
      "\u001b[1;31m---------------------------------------------------------------------------\u001b[0m",
      "\u001b[1;31mValueError\u001b[0m                                Traceback (most recent call last)",
      "\u001b[1;32m<ipython-input-129-4602b657dcff>\u001b[0m in \u001b[0;36m<module>\u001b[1;34m()\u001b[0m\n\u001b[0;32m     34\u001b[0m \u001b[1;33m\u001b[0m\u001b[0m\n\u001b[0;32m     35\u001b[0m \u001b[0mgmm\u001b[0m \u001b[1;33m=\u001b[0m \u001b[0mGaussianMixture\u001b[0m\u001b[1;33m(\u001b[0m\u001b[0mn_components\u001b[0m \u001b[1;33m=\u001b[0m \u001b[1;36m6\u001b[0m\u001b[1;33m,\u001b[0m \u001b[0mrandom_state\u001b[0m\u001b[1;33m=\u001b[0m\u001b[1;36m2013\u001b[0m\u001b[1;33m)\u001b[0m\u001b[1;33m\u001b[0m\u001b[0m\n\u001b[1;32m---> 36\u001b[1;33m \u001b[0mplot_gmm\u001b[0m\u001b[1;33m(\u001b[0m\u001b[0mgmm\u001b[0m\u001b[1;33m,\u001b[0m \u001b[0mX_pca_azdias\u001b[0m\u001b[1;33m)\u001b[0m\u001b[1;33m\u001b[0m\u001b[0m\n\u001b[0m",
      "\u001b[1;32m<ipython-input-129-4602b657dcff>\u001b[0m in \u001b[0;36mplot_gmm\u001b[1;34m(gmm, X, label, ax)\u001b[0m\n\u001b[0;32m     30\u001b[0m     \u001b[0mw_factor\u001b[0m \u001b[1;33m=\u001b[0m \u001b[1;36m0.2\u001b[0m \u001b[1;33m/\u001b[0m \u001b[0mgmm\u001b[0m\u001b[1;33m.\u001b[0m\u001b[0mweights_\u001b[0m\u001b[1;33m.\u001b[0m\u001b[0mmax\u001b[0m\u001b[1;33m(\u001b[0m\u001b[1;33m)\u001b[0m\u001b[1;33m\u001b[0m\u001b[0m\n\u001b[0;32m     31\u001b[0m     \u001b[1;32mfor\u001b[0m \u001b[0mpos\u001b[0m\u001b[1;33m,\u001b[0m \u001b[0mcovar\u001b[0m\u001b[1;33m,\u001b[0m \u001b[0mw\u001b[0m \u001b[1;32min\u001b[0m \u001b[0mzip\u001b[0m\u001b[1;33m(\u001b[0m\u001b[0mgmm\u001b[0m\u001b[1;33m.\u001b[0m\u001b[0mmeans_\u001b[0m\u001b[1;33m,\u001b[0m \u001b[0mgmm\u001b[0m\u001b[1;33m.\u001b[0m\u001b[0mcovariances_\u001b[0m\u001b[1;33m,\u001b[0m \u001b[0mgmm\u001b[0m\u001b[1;33m.\u001b[0m\u001b[0mweights_\u001b[0m\u001b[1;33m)\u001b[0m\u001b[1;33m:\u001b[0m\u001b[1;33m\u001b[0m\u001b[0m\n\u001b[1;32m---> 32\u001b[1;33m         \u001b[0mdraw_ellipse\u001b[0m\u001b[1;33m(\u001b[0m\u001b[0mpos\u001b[0m\u001b[1;33m,\u001b[0m \u001b[0mcovar\u001b[0m\u001b[1;33m,\u001b[0m \u001b[0malpha\u001b[0m\u001b[1;33m=\u001b[0m\u001b[0mw\u001b[0m \u001b[1;33m*\u001b[0m \u001b[0mw_factor\u001b[0m\u001b[1;33m)\u001b[0m\u001b[1;33m\u001b[0m\u001b[0m\n\u001b[0m\u001b[0;32m     33\u001b[0m \u001b[1;33m\u001b[0m\u001b[0m\n\u001b[0;32m     34\u001b[0m \u001b[1;33m\u001b[0m\u001b[0m\n",
      "\u001b[1;32m<ipython-input-129-4602b657dcff>\u001b[0m in \u001b[0;36mdraw_ellipse\u001b[1;34m(position, covariance, ax, **kwargs)\u001b[0m\n\u001b[0;32m     12\u001b[0m     \u001b[1;32melse\u001b[0m\u001b[1;33m:\u001b[0m\u001b[1;33m\u001b[0m\u001b[0m\n\u001b[0;32m     13\u001b[0m         \u001b[0mangle\u001b[0m \u001b[1;33m=\u001b[0m \u001b[1;36m0\u001b[0m\u001b[1;33m\u001b[0m\u001b[0m\n\u001b[1;32m---> 14\u001b[1;33m         \u001b[0mwidth\u001b[0m\u001b[1;33m,\u001b[0m \u001b[0mheight\u001b[0m \u001b[1;33m=\u001b[0m \u001b[1;36m2\u001b[0m \u001b[1;33m*\u001b[0m \u001b[0mnp\u001b[0m\u001b[1;33m.\u001b[0m\u001b[0msqrt\u001b[0m\u001b[1;33m(\u001b[0m\u001b[0mcovariance\u001b[0m\u001b[1;33m)\u001b[0m\u001b[1;33m\u001b[0m\u001b[0m\n\u001b[0m\u001b[0;32m     15\u001b[0m \u001b[1;33m\u001b[0m\u001b[0m\n\u001b[0;32m     16\u001b[0m     \u001b[1;31m# Draw the Ellipse\u001b[0m\u001b[1;33m\u001b[0m\u001b[1;33m\u001b[0m\u001b[0m\n",
      "\u001b[1;31mValueError\u001b[0m: too many values to unpack (expected 2)"
     ]
    },
    {
     "data": {
      "image/png": "[encoded data removed]",
      "text/plain": [
       "<Figure size 432x288 with 1 Axes>"
      ]
     },
     "metadata": {},
     "output_type": "display_data"
    }
   ],
   "source": [
    "from matplotlib.patches import Ellipse\n",
    "\n",
    "def draw_ellipse(position, covariance, ax=None, **kwargs):\n",
    "    \"\"\"Draw an ellipse with a given position and covariance\"\"\"\n",
    "    ax = ax or plt.gca()\n",
    "    \n",
    "    # Convert covariance to principal axes\n",
    "    if covariance.shape == (2, 2):\n",
    "        U, s, Vt = np.linalg.svd(covariance)\n",
    "        angle = np.degrees(np.arctan2(U[1, 0], U[0, 0]))\n",
    "        width, height = 2 * np.sqrt(s)\n",
    "    else:\n",
    "        angle = 0\n",
    "        width, height = 2 * np.sqrt(covariance)\n",
    "    \n",
    "    # Draw the Ellipse\n",
    "    for nsig in range(1, 4):\n",
    "        ax.add_patch(Ellipse(position, nsig * width, nsig * height,\n",
    "                             angle, **kwargs))\n",
    "        \n",
    "def plot_gmm(gmm, X, label=True, ax=None):\n",
    "    ax = ax or plt.gca()\n",
    "    labels = gmm.fit(X).predict(X)\n",
    "    if label:\n",
    "        ax.scatter(X[:, 0], X[:, 1], c=labels, s=40, cmap='viridis', zorder=2)\n",
    "    else:\n",
    "        ax.scatter(X[:, 0], X[:, 1], s=40, zorder=2)\n",
    "    ax.axis('equal')\n",
    "    \n",
    "    w_factor = 0.2 / gmm.weights_.max()\n",
    "    for pos, covar, w in zip(gmm.means_, gmm.covariances_, gmm.weights_):\n",
    "        draw_ellipse(pos, covar, alpha=w * w_factor)\n",
    "        \n",
    "\n",
    "gmm = GaussianMixture(n_components = 6, random_state=2013)\n",
    "plot_gmm(gmm, X_pca_azdias)"
   ]
  },
  {
   "cell_type": "markdown",
   "metadata": {},
   "source": [
    "In order to correct the overfitting, we adjust the model likelihoods using some analytic criterion such as the Akaike information criterion (AIC) or the Bayesian information criterion (BIC)."
   ]
  },
  {
   "cell_type": "code",
   "execution_count": 122,
   "metadata": {},
   "outputs": [
    {
     "data": {
      "text/html": [
       "<div>\n",
       "<style scoped>\n",
       "    .dataframe tbody tr th:only-of-type {\n",
       "        vertical-align: middle;\n",
       "    }\n",
       "\n",
       "    .dataframe tbody tr th {\n",
       "        vertical-align: top;\n",
       "    }\n",
       "\n",
       "    .dataframe thead th {\n",
       "        text-align: right;\n",
       "    }\n",
       "</style>\n",
       "<table border=\"1\" class=\"dataframe\">\n",
       "  <thead>\n",
       "    <tr style=\"text-align: right;\">\n",
       "      <th></th>\n",
       "      <th>Clusters</th>\n",
       "      <th>BIC</th>\n",
       "      <th>AIC</th>\n",
       "    </tr>\n",
       "  </thead>\n",
       "  <tbody>\n",
       "    <tr>\n",
       "      <th>2</th>\n",
       "      <td>2.0</td>\n",
       "      <td>1.199018e+07</td>\n",
       "      <td>1.190459e+07</td>\n",
       "    </tr>\n",
       "    <tr>\n",
       "      <th>4</th>\n",
       "      <td>4.0</td>\n",
       "      <td>1.072576e+07</td>\n",
       "      <td>1.055457e+07</td>\n",
       "    </tr>\n",
       "    <tr>\n",
       "      <th>6</th>\n",
       "      <td>6.0</td>\n",
       "      <td>8.304538e+06</td>\n",
       "      <td>8.047750e+06</td>\n",
       "    </tr>\n",
       "    <tr>\n",
       "      <th>8</th>\n",
       "      <td>8.0</td>\n",
       "      <td>1.030855e+07</td>\n",
       "      <td>9.966159e+06</td>\n",
       "    </tr>\n",
       "  </tbody>\n",
       "</table>\n",
       "</div>"
      ],
      "text/plain": [
       "   Clusters           BIC           AIC\n",
       "2       2.0  1.199018e+07  1.190459e+07\n",
       "4       4.0  1.072576e+07  1.055457e+07\n",
       "6       6.0  8.304538e+06  8.047750e+06\n",
       "8       8.0  1.030855e+07  9.966159e+06"
      ]
     },
     "metadata": {},
     "output_type": "display_data"
    }
   ],
   "source": [
    "\n",
    "\n",
    "display(v_data)"
   ]
  },
  {
   "cell_type": "code",
   "execution_count": 123,
   "metadata": {},
   "outputs": [
    {
     "data": {
      "image/png": "[encoded data removed]",
      "text/plain": [
       "<Figure size 432x288 with 1 Axes>"
      ]
     },
     "metadata": {},
     "output_type": "display_data"
    }
   ],
   "source": []
  },
  {
   "cell_type": "markdown",
   "metadata": {},
   "source": [
    "The optimal number of clusters is the value that minimizes the AIC or BIC, depending on which approximation we wish to use. \n",
    "\n",
    "The AIC tells us that our choice of **...** components above was probably too many: around **...** components would have been a better choice. \n",
    "\n",
    "BIC recommends a simpler model.\n",
    "\n",
    "We also check that the model has converged."
   ]
  },
  {
   "cell_type": "code",
   "execution_count": 125,
   "metadata": {},
   "outputs": [
    {
     "name": "stdout",
     "output_type": "stream",
     "text": [
      "True\n"
     ]
    }
   ],
   "source": []
  },
  {
   "cell_type": "code",
   "execution_count": null,
   "metadata": {},
   "outputs": [],
   "source": []
  },
  {
   "cell_type": "code",
   "execution_count": null,
   "metadata": {},
   "outputs": [],
   "source": []
  },
  {
   "cell_type": "code",
   "execution_count": 130,
   "metadata": {},
   "outputs": [
    {
     "data": {
      "image/png": "[encoded data removed]",
      "text/plain": [
       "<Figure size 432x288 with 1 Axes>"
      ]
     },
     "metadata": {},
     "output_type": "display_data"
    }
   ],
   "source": [
    "from sklearn import mixture\n",
    "\n",
    "v_gmm = mixture.GaussianMixture(n_components = 6, covariance_type = 'full').fit(X_pca_azdias)\n",
    "y_pca_azdias = v_gmm.predict(X_pca_azdias)\n",
    "utl_plotClusterResults( X               = X_pca_azdias, \n",
    "                        Y_              = y_pca_azdias, \n",
    "                        p_means         = v_gmm.means_, \n",
    "                        p_covariances   = v_gmm.covariances_, \n",
    "                        p_index         = 0, \n",
    "                        p_title         = 'Gaussian Mixture', \n",
    "                        p_color_iter    = g_color_iter )"
   ]
  },
  {
   "cell_type": "markdown",
   "metadata": {},
   "source": [
    "------------\n",
    "### Fit a Dirichlet process Gaussian mixture using five components"
   ]
  },
  {
   "cell_type": "code",
   "execution_count": 92,
   "metadata": {},
   "outputs": [
    {
     "data": {
      "image/png": "[encoded data removed]",
      "text/plain": [
       "<Figure size 432x288 with 1 Axes>"
      ]
     },
     "metadata": {},
     "output_type": "display_data"
    }
   ],
   "source": [
    "v_dpgmm = mixture.BayesianGaussianMixture( n_components = 5, covariance_type = 'full' ).fit(X_pca_azdias)\n",
    "y_pca_azdias = v_dpgmm.predict(X_pca_azdias)\n",
    "utl_plotClusterResults( X               = X_pca_azdias, \n",
    "                        Y_              = y_pca_azdias, \n",
    "                        p_means         = v_dpgmm.means_, \n",
    "                        p_covariances   = v_dpgmm.covariances_, \n",
    "                        p_index         = 1, \n",
    "                        p_title         = 'Bayesian Gaussian Mixture with a Dirichlet process prior', \n",
    "                        p_color_iter    = g_color_iter )\n",
    "plt.show()"
   ]
  },
  {
   "cell_type": "code",
   "execution_count": null,
   "metadata": {},
   "outputs": [],
   "source": []
  },
  {
   "cell_type": "code",
   "execution_count": null,
   "metadata": {},
   "outputs": [],
   "source": []
  },
  {
   "cell_type": "code",
   "execution_count": null,
   "metadata": {},
   "outputs": [],
   "source": []
  },
  {
   "cell_type": "markdown",
   "metadata": {},
   "source": [
    "## Part 2: Supervised Learning Model\n",
    "\n",
    "Now that you've found which parts of the population are more likely to be customers of the mail-order company, it's time to build a prediction model. Each of the rows in the \"MAILOUT\" data files represents an individual that was targeted for a mailout campaign. Ideally, we should be able to use the demographic information from each individual to decide whether or not it will be worth it to include that person in the campaign.\n",
    "\n",
    "The \"MAILOUT\" data has been split into two approximately equal parts, each with almost 43 000 data rows. In this part, you can verify your model with the \"TRAIN\" partition, which includes a column, \"RESPONSE\", that states whether or not a person became a customer of the company following the campaign. In the next part, you'll need to create predictions on the \"TEST\" partition, where the \"RESPONSE\" column has been withheld."
   ]
  },
  {
   "cell_type": "code",
   "execution_count": 7,
   "metadata": {},
   "outputs": [
    {
     "name": "stdout",
     "output_type": "stream",
     "text": [
      "\n",
      "********************************************************************************************\n"
     ]
    },
    {
     "name": "stderr",
     "output_type": "stream",
     "text": [
      "D:\\___winApp\\Anaconda3\\lib\\site-packages\\IPython\\core\\interactiveshell.py:2785: DtypeWarning: Columns (19,20) have mixed types. Specify dtype option on import or set low_memory=False.\n",
      "  interactivity=interactivity, compiler=compiler, result=result)\n"
     ]
    },
    {
     "data": {
      "text/markdown": [
       "START Clean dataframe **<span style=\"color: blue\">Train Dataset</span>**."
      ],
      "text/plain": [
       "<IPython.core.display.Markdown object>"
      ]
     },
     "metadata": {},
     "output_type": "display_data"
    },
    {
     "data": {
      "text/markdown": [
       "Clean dataframe **<span style=\"color: blue\">Train Dataset</span>** based on definition."
      ],
      "text/plain": [
       "<IPython.core.display.Markdown object>"
      ]
     },
     "metadata": {},
     "output_type": "display_data"
    },
    {
     "data": {
      "text/markdown": [
       "Re-encode columns values based on definition."
      ],
      "text/plain": [
       "<IPython.core.display.Markdown object>"
      ]
     },
     "metadata": {},
     "output_type": "display_data"
    },
    {
     "name": "stderr",
     "output_type": "stream",
     "text": [
      "100% (314 of 314) |######################| Elapsed Time: 0:00:46 Time:  0:00:46\n"
     ]
    },
    {
     "data": {
      "text/markdown": [
       "Transform object columns to numeric."
      ],
      "text/plain": [
       "<IPython.core.display.Markdown object>"
      ]
     },
     "metadata": {},
     "output_type": "display_data"
    },
    {
     "name": "stderr",
     "output_type": "stream",
     "text": [
      "100% (25 of 25) |########################| Elapsed Time: 0:00:00 Time:  0:00:00\n"
     ]
    },
    {
     "name": "stdout",
     "output_type": "stream",
     "text": [
      "\n",
      "********************************************************************************************\n"
     ]
    },
    {
     "data": {
      "text/markdown": [
       "Reduce memory usage for dataframe **<span style=\"color: blue\">Train Dataset</span>**."
      ],
      "text/plain": [
       "<IPython.core.display.Markdown object>"
      ]
     },
     "metadata": {},
     "output_type": "display_data"
    },
    {
     "name": "stderr",
     "output_type": "stream",
     "text": [
      "  1% (4 of 392) |                        | Elapsed Time: 0:00:00 ETA:   0:00:12"
     ]
    },
    {
     "name": "stdout",
     "output_type": "stream",
     "text": [
      "Initial memory usage is 106.94 MBs.\n",
      "<class 'pandas.core.frame.DataFrame'>\n",
      "Int64Index: 42962 entries, 0 to 42961\n",
      "Columns: 392 entries, LNR to PRAEGENDE_JUGENDJAHRE_Value_3\n",
      "dtypes: float16(89), float64(193), int64(87), object(23)\n",
      "memory usage: 106.9+ MB\n",
      "None\n"
     ]
    },
    {
     "name": "stderr",
     "output_type": "stream",
     "text": [
      "100% (392 of 392) |######################| Elapsed Time: 0:00:05 Time:  0:00:05\n"
     ]
    },
    {
     "name": "stdout",
     "output_type": "stream",
     "text": [
      "\n",
      "Final memory usage is 33.92 MBs.\n",
      "This is 31.72% of the initial size.\n",
      "\n",
      "<class 'pandas.core.frame.DataFrame'>\n",
      "Int64Index: 42962 entries, 0 to 42961\n",
      "Columns: 392 entries, LNR to PRAEGENDE_JUGENDJAHRE_Value_3\n",
      "dtypes: float16(263), int8(6), object(23), uint16(1), uint32(1), uint8(98)\n",
      "memory usage: 33.9+ MB\n",
      "None\n"
     ]
    },
    {
     "data": {
      "text/markdown": [
       "Re-encode column **<span style=\"color: blue\">EINGEFUEGT_AM</span>**."
      ],
      "text/plain": [
       "<IPython.core.display.Markdown object>"
      ]
     },
     "metadata": {},
     "output_type": "display_data"
    },
    {
     "data": {
      "text/markdown": [
       "Re-encode column having year format **<span style=\"color: blue\">GEBURTSJAHR</span>**."
      ],
      "text/plain": [
       "<IPython.core.display.Markdown object>"
      ]
     },
     "metadata": {},
     "output_type": "display_data"
    },
    {
     "data": {
      "text/markdown": [
       "Re-encode column having year format **<span style=\"color: blue\">MIN_GEBAEUDEJAHR</span>**."
      ],
      "text/plain": [
       "<IPython.core.display.Markdown object>"
      ]
     },
     "metadata": {},
     "output_type": "display_data"
    },
    {
     "data": {
      "text/markdown": [
       "Re-encode column having year format **<span style=\"color: blue\">EINGEZOGENAM_HH_JAHR</span>**."
      ],
      "text/plain": [
       "<IPython.core.display.Markdown object>"
      ]
     },
     "metadata": {},
     "output_type": "display_data"
    },
    {
     "data": {
      "text/markdown": [
       "Re-encode column having year format **<span style=\"color: blue\">EINGEFUEGT_AM_Year</span>**."
      ],
      "text/plain": [
       "<IPython.core.display.Markdown object>"
      ]
     },
     "metadata": {},
     "output_type": "display_data"
    },
    {
     "data": {
      "text/markdown": [
       "Calculate the reduced dimension flags for **<span style=\"color: blue\">MISSING</span>** and **<span style=\"color: blue\">UNKNOWN</span>** values."
      ],
      "text/plain": [
       "<IPython.core.display.Markdown object>"
      ]
     },
     "metadata": {},
     "output_type": "display_data"
    },
    {
     "data": {
      "text/markdown": [
       "Concatenate the calculated missing / unknonw with reduced dimension."
      ],
      "text/plain": [
       "<IPython.core.display.Markdown object>"
      ]
     },
     "metadata": {},
     "output_type": "display_data"
    },
    {
     "data": {
      "text/markdown": [
       "Re-encode some categorical columns."
      ],
      "text/plain": [
       "<IPython.core.display.Markdown object>"
      ]
     },
     "metadata": {},
     "output_type": "display_data"
    },
    {
     "data": {
      "text/markdown": [
       "Dummy encode the object columns not re-encoded above."
      ],
      "text/plain": [
       "<IPython.core.display.Markdown object>"
      ]
     },
     "metadata": {},
     "output_type": "display_data"
    },
    {
     "data": {
      "text/markdown": [
       "Fill in categorical columns with -2."
      ],
      "text/plain": [
       "<IPython.core.display.Markdown object>"
      ]
     },
     "metadata": {},
     "output_type": "display_data"
    },
    {
     "data": {
      "text/markdown": [
       "Drop features identified as highly correlated."
      ],
      "text/plain": [
       "<IPython.core.display.Markdown object>"
      ]
     },
     "metadata": {},
     "output_type": "display_data"
    },
    {
     "data": {
      "text/markdown": [
       "Calculate columns to be imputed later."
      ],
      "text/plain": [
       "<IPython.core.display.Markdown object>"
      ]
     },
     "metadata": {},
     "output_type": "display_data"
    },
    {
     "data": {
      "text/markdown": [
       "Calculate columns to be scaled later."
      ],
      "text/plain": [
       "<IPython.core.display.Markdown object>"
      ]
     },
     "metadata": {},
     "output_type": "display_data"
    },
    {
     "name": "stdout",
     "output_type": "stream",
     "text": [
      "\n",
      "********************************************************************************************\n"
     ]
    },
    {
     "data": {
      "text/markdown": [
       "END Clean dataframe **<span style=\"color: blue\">Train Dataset</span>**."
      ],
      "text/plain": [
       "<IPython.core.display.Markdown object>"
      ]
     },
     "metadata": {},
     "output_type": "display_data"
    }
   ],
   "source": [
    "for path in [ '../Arvato Project - dataSensitive', '../../data/Term2/capstone/arvato_data' ]:\n",
    "    try:\n",
    "        mailout_train = pd.read_csv(f'{path}/Udacity_MAILOUT_052018_TRAIN.csv', sep=';').drop('Unnamed: 0', axis = 1)\n",
    "        break\n",
    "    except: None\n",
    "        \n",
    "# Load variables saved earlier\n",
    "v_pcaMissingUnknown = joblib.load(g_saveFilenames['pcaMissingUnknown'])\n",
    "\n",
    "with open(g_saveFilenames['featuresDef'], 'r') as inFile:\n",
    "    v_featuresDef = json.load(inFile)\n",
    "    \n",
    "with open(g_saveFilenames['categoricalColumns'], 'r') as inFile:\n",
    "    v_categoricalColumns = json.load(inFile)\n",
    "    \n",
    "with open(g_saveFilenames['categoricalToProcess'], 'r') as inFile:\n",
    "    v_categoricalToProcess = json.load(inFile)\n",
    "    \n",
    "with open(g_saveFilenames['dummyEncode'], 'r') as inFile:\n",
    "    v_dummyEncode = json.load(inFile)\n",
    "    \n",
    "with open(g_saveFilenames['highlyCorrelated'], 'r') as inFile:\n",
    "    v_highlyCorrelated = json.load(inFile)\n",
    "    \n",
    "with open(g_saveFilenames['colMissing'], 'r') as inFile:\n",
    "    v_colMissing = json.load(inFile)\n",
    "    \n",
    "with open(g_saveFilenames['colUnknownVals'], 'r') as inFile:\n",
    "    v_colUnknownVals = json.load(inFile)\n",
    "    \n",
    "v_mailout_train, v_missing, v_scaleColumns = utl_cleanDataFrame( p_label                 = 'Train Dataset', \n",
    "                                                                 p_data                  = mailout_train, \n",
    "                                                                 p_featuresDef           = v_featuresDef, \n",
    "                                                                 p_categoricalColumns    = v_categoricalColumns, \n",
    "                                                                 p_categoricalToProcess  = v_categoricalToProcess, \n",
    "                                                                 p_dummyEncode           = v_dummyEncode, \n",
    "                                                                 p_highlyCorrelated      = v_highlyCorrelated, \n",
    "                                                                 p_pcaMissingUnknown     = v_pcaMissingUnknown, \n",
    "                                                                 p_colMissing            = v_colMissing, \n",
    "                                                                 p_colUnknownVals        = v_colUnknownVals,\n",
    "                                                                 p_ignoreScale           = [ 'LNR', 'RESPONSE' ] )"
   ]
  },
  {
   "cell_type": "markdown",
   "metadata": {},
   "source": [
    "------\n",
    "### Split in train and test datasets"
   ]
  },
  {
   "cell_type": "code",
   "execution_count": 8,
   "metadata": {},
   "outputs": [],
   "source": [
    "from sklearn.model_selection import train_test_split\n",
    "\n",
    "v_features = v_mailout_train.drop(['RESPONSE', 'LNR'], axis = 1)\n",
    "v_target   = v_mailout_train['RESPONSE']\n",
    "X_trainAll, X_testAll, y_trainAll, y_testAll = train_test_split( v_features, \n",
    "                                                                 v_target, \n",
    "                                                                 test_size = .10, \n",
    "                                                                 random_state = 42,\n",
    "                                                                 stratify = v_target )"
   ]
  },
  {
   "cell_type": "markdown",
   "metadata": {},
   "source": [
    "------\n",
    "### Define the weight for the positive class."
   ]
  },
  {
   "cell_type": "code",
   "execution_count": 9,
   "metadata": {},
   "outputs": [
    {
     "name": "stdout",
     "output_type": "stream",
     "text": [
      "Positive weight for the complete target:  79.756\n",
      "Positive weight for the train dataset:    79.72\n",
      "Positive weight for the test dataset:     80.075\n"
     ]
    }
   ],
   "source": [
    "print('Positive weight for the complete target: ', round(float(np.sum(v_target == 0)) / np.sum(v_target == 1), 3))\n",
    "print('Positive weight for the train dataset:   ', round(float(np.sum(y_trainAll == 0)) / np.sum(y_trainAll == 1), 3))\n",
    "print('Positive weight for the test dataset:    ', round(float(np.sum(y_testAll == 0)) / np.sum(y_testAll == 1), 3))\n",
    "v_posWeight = 79.75"
   ]
  },
  {
   "cell_type": "markdown",
   "metadata": {},
   "source": [
    "------\n",
    "### Bayesian search for parameters for LGB models with all features, no imputing, no scaling"
   ]
  },
  {
   "cell_type": "code",
   "execution_count": 10,
   "metadata": {},
   "outputs": [
    {
     "name": "stdout",
     "output_type": "stream",
     "text": [
      "Execute CV split.\n",
      "Class has been initialized for model type: lightgbm\n"
     ]
    },
    {
     "ename": "TypeError",
     "evalue": "copyStackModels() got an unexpected keyword argument 'p_tops'",
     "output_type": "error",
     "traceback": [
      "\u001b[1;31m---------------------------------------------------------------------------\u001b[0m",
      "\u001b[1;31mTypeError\u001b[0m                                 Traceback (most recent call last)",
      "\u001b[1;32m<ipython-input-10-48aeb8999cc7>\u001b[0m in \u001b[0;36m<module>\u001b[1;34m()\u001b[0m\n\u001b[0;32m     33\u001b[0m                                             \u001b[0mX_test\u001b[0m        \u001b[1;33m=\u001b[0m \u001b[0mX_testAll\u001b[0m\u001b[1;33m,\u001b[0m\u001b[1;33m\u001b[0m\u001b[0m\n\u001b[0;32m     34\u001b[0m                                             y_test        = y_testAll )\n\u001b[1;32m---> 35\u001b[1;33m \u001b[0mv_stackDir\u001b[0m \u001b[1;33m=\u001b[0m \u001b[0mv_model\u001b[0m\u001b[1;33m.\u001b[0m\u001b[0mcopyStackModels\u001b[0m\u001b[1;33m(\u001b[0m\u001b[0mp_tops\u001b[0m \u001b[1;33m=\u001b[0m \u001b[1;36m10\u001b[0m\u001b[1;33m)\u001b[0m\u001b[1;33m\u001b[0m\u001b[0m\n\u001b[0m",
      "\u001b[1;31mTypeError\u001b[0m: copyStackModels() got an unexpected keyword argument 'p_tops'"
     ]
    }
   ],
   "source": [
    "v_hyper_space = { 'objective':           'binary',\n",
    "                  'n_estimators': 1000 + hp.randint('n_estimators', 1500),               \n",
    "                  'boosting_type': hp.choice('boosting_type', [\n",
    "                                                         { 'boosting_type': 'gbdt', \n",
    "                                                           'subsample': hp.uniform('gdbt_subsample', 0.5, 1)}, \n",
    "                                                         { 'boosting_type': 'dart', \n",
    "                                                           'subsample': hp.uniform('dart_subsample', 0.5, 1)},\n",
    "                                                         { 'boosting_type': 'goss'} ]),\n",
    "                  'max_depth':         hp.quniform('max_depth', 1, 30, 1),\n",
    "                  'scale_pos_weight':  hp.quniform('scale_pos_weight', v_posWeight * 0.5, \n",
    "                                                                       v_posWeight * 2, \n",
    "                                                                       v_posWeight * 0.5),\n",
    "                  'num_leaves':        hp.quniform('num_leaves', 2, 150, 1),\n",
    "                  'learning_rate':     hp.loguniform('learning_rate', np.log(0.00001), np.log(0.2)),\n",
    "                  'min_child_samples': hp.quniform('min_child_samples', 20, 500, 5),\n",
    "                  'reg_alpha':         hp.uniform('reg_alpha', 0.0, 1.0),\n",
    "                  'reg_lambda':        hp.uniform('reg_lambda', 0.0, 1.0),\n",
    "                  'colsample_bytree':  hp.uniform('colsample_by_tree', 0.6, 1.0) }  \n",
    "\n",
    "v_model = CustBoostClassifier( p_modelType          = 'lightgbm',\n",
    "                               p_modelName          = 'LGB_AllFeatures_NI_NS',\n",
    "                               X_train              = X_trainAll.copy(),\n",
    "                               y_train              = y_trainAll.copy(),\n",
    "                               p_selected_features  = [],\n",
    "                               p_imputeColumns      = [], \n",
    "                               p_scaleColumns       = [], \n",
    "                               p_cvSplits           = 10,\n",
    "                               p_random_state       = 2013 )   \n",
    "v_bayes_trials = v_model.bayesianSearchLGB( p_hyper_space = v_hyper_space,\n",
    "                                            p_posWeight   = v_posWeight,\n",
    "                                            p_max_eval    = 30,\n",
    "                                            X_test        = X_testAll, \n",
    "                                            y_test        = y_testAll )"
   ]
  },
  {
   "cell_type": "code",
   "execution_count": 17,
   "metadata": {},
   "outputs": [],
   "source": [
    "import pandas as pd\n",
    "import numpy as np\n",
    "\n",
    "import matplotlib.pyplot as plt\n",
    "import seaborn as sns\n",
    "\n",
    "from sklearn.metrics import roc_auc_score\n",
    "from sklearn.model_selection import KFold  as CVFold\n",
    "\n",
    "from hyperopt import hp, tpe, fmin, space_eval, Trials\n",
    "\n",
    "import datetime\n",
    "import shutil\n",
    "import os\n",
    "\n",
    "import lightgbm as lgb\n",
    "\n",
    "\n",
    "class CustBoostClassifier():\n",
    "    \n",
    "    __modelType__             = None\n",
    "    __modelName__             = None,\n",
    "    __models__                = None\n",
    "    \n",
    "    __X_train__               = None\n",
    "    __y_train__               = None\n",
    "    __feature_name__          = None\n",
    "    \n",
    "    __selected_featuresIni__  = None\n",
    "    __imputeColumnsIni__      = None\n",
    "    __scaleColumnsIni__       = None\n",
    "    \n",
    "    __random_state__          = None\n",
    "    \n",
    "    __cvSplits__              = None\n",
    "    \n",
    "    __dataset_train__         = None\n",
    "    __dataset_valid__         = None\n",
    "    __validation__            = None\n",
    "    __cvScores__              = None\n",
    "    __validScores__           = None\n",
    "    __bayes_trials__          = None\n",
    "    \n",
    "    \n",
    "    #----------------------------------------------------------------------------------------------------------------\n",
    "    def __init__( self, p_modelType, p_modelName = None, X_train = None, y_train = None,\n",
    "                  p_selected_features = [], p_imputeColumns = [], p_scaleColumns = [],\n",
    "                  p_cvSplits = 0, p_random_state = 0 ):\n",
    "        self.__modelType__            = p_modelType\n",
    "        self.__modelName__            = p_modelName\n",
    "        self.__X_train__              = X_train\n",
    "        self.__y_train__              = y_train\n",
    "        self.__cvSplits__             = p_cvSplits\n",
    "        \n",
    "        self.__selected_featuresIni__ = p_selected_features   \n",
    "        self.__imputeColumnsIni__     = p_imputeColumns \n",
    "        self.__scaleColumnsIni__      = p_scaleColumns\n",
    "        \n",
    "        self.__random_state__         = p_random_state\n",
    "        self.__dataset_train__        = []\n",
    "        \n",
    "        if not X_train is None:\n",
    "            self.__createCVSplits__()\n",
    "        \n",
    "        print(f'Class has been initialized for model type: {self.__modelType__}')        \n",
    "        return\n",
    "    \n",
    "    \n",
    "    #----------------------------------------------------------------------------------------------------------------\n",
    "    def train(self, p_params, p_verbose = False, p_saveFull = True):\n",
    "        \"\"\" Generic function to train models. It will call the iternal functions basd on the model type. \"\"\" \n",
    "        if self.__modelType__ == 'lightgbm':\n",
    "            self.__trainLGB__(p_params, p_saveFull, p_verbose)\n",
    "        else:\n",
    "            raise ValueError(f'Training not implemented for model type: {self.__modelType__}')\n",
    "        return\n",
    "    \n",
    "    \n",
    "    #----------------------------------------------------------------------------------------------------------------\n",
    "    def copyStackModels(self, p_top = 30):\n",
    "        print('\\n***********************************************************************************************')\n",
    "        v_now       = datetime.datetime.today().strftime('%Y%m%d_%H%M')\n",
    "        v_destDir   = f'{self.__modelName__}_{v_now}'\n",
    "        v_src_files = f'models/saveTrain/'\n",
    "        v_stackDir  = f'models/stack/{v_destDir}'\n",
    "        if not os.path.exists(v_stackDir): os.makedirs(v_stackDir)\n",
    "\n",
    "        for item in self.__bayes_trials__[:p_top]:\n",
    "            print(item['iteration'].zfill(4), ' ... ', round(item['scoreValid'], 6), ' ... ', round(item['scoreTest'], 6))\n",
    "            # Copy the models to the stack folder\n",
    "            for idx in range(self.__cvSplits__):\n",
    "                v_fileName = f'model_{self.__modelName__}_{item[\"iteration\"]}_{idx + 1}.txt'\n",
    "                v_fileName = os.path.join(v_src_files, v_fileName)\n",
    "                shutil.copy(v_fileName, v_stackDir)\n",
    "                \n",
    "        return v_destDir\n",
    "    \n",
    "    #----------------------------------------------------------------------------------------------------------------\n",
    "    def predictStack(self, p_folder, X_data, y_data = None, p_showPlot = False):\n",
    "        \"\"\" Function used to load all the models that will be used to create the predictions. \"\"\" \n",
    "        self.__models__ = []\n",
    "        for folder in p_folder:\n",
    "            for (dirpath, dirnames, filenames) in os.walk(f'models/stack/{folder}'):\n",
    "                for filename in filenames:    \n",
    "                    bst = lgb.Booster(model_file = f'{dirpath}/{filename}')\n",
    "                    self.__models__.append(bst)\n",
    "        return self.predictProba(X_data, y_data, p_showPlot) \n",
    "    \n",
    "    \n",
    "    #----------------------------------------------------------------------------------------------------------------\n",
    "    def featureImportanceStack(self, p_folder, p_top = 30):\n",
    "        \"\"\" Function used to load all the models that will be used to create the predictions. \"\"\" \n",
    "        self.__models__ = []\n",
    "        for folder in p_folder:\n",
    "            for (dirpath, dirnames, filenames) in os.walk(f'models/stack/{folder}'):\n",
    "                for filename in filenames:    \n",
    "                    bst = lgb.Booster(model_file = f'{dirpath}/{filename}')\n",
    "                    self.__models__.append(bst)\n",
    "                    \n",
    "        v_return = None\n",
    "        v_count = 0\n",
    "        for model in self.__models__:\n",
    "            v_count += 1\n",
    "            v_fold_df = pd.DataFrame()\n",
    "            v_fold_df[\"feature\"] = model.feature_name()  \n",
    "            v_fold_df[\"importance_split\"] = model.feature_importance(importance_type='split') \n",
    "            v_fold_df[\"importance_gain\"] = model.feature_importance(importance_type='gain')\n",
    "            if v_return is None:\n",
    "                v_return = v_fold_df.sort_values('importance_gain', ascending = False)\n",
    "            else:\n",
    "                v_return = v_return.merge(v_fold_df, how = 'inner', on = 'feature', suffixes = ('', f'_{v_count}'))\n",
    "\n",
    "        for column in ['importance_split', 'importance_gain']:\n",
    "            v_cols = [item for item in v_return.columns if column in item]\n",
    "            v_return[f'_{column}'] = v_return[v_cols].sum(axis = 1) / len(v_cols)\n",
    "            v_return.drop(v_cols, axis = 1, inplace = True)\n",
    "\n",
    "        v_return = v_return.sort_values('_importance_gain', ascending = False).reset_index(drop = True).head(p_top)\n",
    "        display(v_return)\n",
    "        \n",
    "        return v_return\n",
    "    \n",
    "    \n",
    "    #----------------------------------------------------------------------------------------------------------------\n",
    "    def predictProba(self, X_data, y_data = None, p_showPlot = False):  \n",
    "        \"\"\" Returns the mean predictions for the models linked to the current instance of the class. \"\"\"  \n",
    "        X_data = self.__scaleData__(X_data)\n",
    "        \n",
    "        y_pred = None\n",
    "        for model in self.__models__:\n",
    "            if self.__modelType__ == 'lightgbm':\n",
    "                y_predTmp = model.predict(X_data)  \n",
    "            else:\n",
    "                y_predTmp = model.predict_proba(X_data)[:, 1] \n",
    "                \n",
    "            if y_pred is None: y_pred = y_predTmp.reshape(-1, 1)\n",
    "            else: y_pred = np.append(y_pred, y_predTmp.reshape(-1, 1), axis = 1)\n",
    "        \n",
    "        y_pred = np.mean(y_pred, axis = 1)\n",
    "        \n",
    "        if not y_data is None:\n",
    "            print(f'   ROC / AUC score: {round(roc_auc_score(y_data, y_pred), 6)}.')            \n",
    "            if p_showPlot:\n",
    "                v_data = pd.DataFrame({ \"True\":       y_data.values,\n",
    "                                        \"Predicted\":  np.round(y_pred, 2) }, index = y_data.index)\n",
    "                ax = sns.countplot(y = \"Predicted\", data = v_data[v_data[\"True\"] == 0])\n",
    "                plt.show()\n",
    "                ax = sns.countplot(y = \"Predicted\", data = v_data[v_data[\"True\"] == 1])\n",
    "                plt.show()                \n",
    "                display(v_data[v_data[\"True\"] != 0].head())\n",
    "                \n",
    "        return y_pred\n",
    "    \n",
    "    \n",
    "    #----------------------------------------------------------------------------------------------------------------\n",
    "    def getScore(self):\n",
    "        \"\"\" Returns the validation mean validation score for the models linked to the current instance of the class. \"\"\" \n",
    "        return np.mean(self.__validScores__)\n",
    "    \n",
    "    \n",
    "    #----------------------------------------------------------------------------------------------------------------\n",
    "    def __trainLGB__(self, p_params, p_sufix = 'FULL', p_saveFull = True, p_verbose = False):\n",
    "        \"\"\" Train LGB models. \"\"\" \n",
    "        self.__models__      = []\n",
    "        self.__validScores__ = []\n",
    "        \n",
    "        v_params = p_params.copy()\n",
    "        v_params['random_state'] = self.__random_state__\n",
    "        if 'n_estimators' in p_params.keys():\n",
    "            v_num_boost_round = p_params['n_estimators']\n",
    "            v_params.pop('n_estimators', None)\n",
    "        else:\n",
    "            v_num_boost_round = 3000\n",
    "                            \n",
    "        for idx in range(len(self.__dataset_train__)):\n",
    "            lgb_train = self.__dataset_train__[idx]\n",
    "            lgb_valid = self.__dataset_valid__[idx]\n",
    "            X_valid, y_valid = self.__validation__[idx]\n",
    "            gbm = lgb.train( v_params,\n",
    "                             lgb_train,\n",
    "                             num_boost_round        = v_num_boost_round,\n",
    "                             valid_sets             = [lgb_train, lgb_valid],\n",
    "                             feature_name           = self.__feature_name__,\n",
    "                             early_stopping_rounds  = 180,\n",
    "                             verbose_eval           = p_verbose )\n",
    "            v_fileName = f'models/saveTrain/model_{self.__modelName__}_{p_sufix}_{idx + 1}'\n",
    "            gbm.save_model(f'{v_fileName}.txt', num_iteration = gbm.best_iteration)                \n",
    "            if p_saveFull:                                \n",
    "                with open(f'{v_fileName}.json', 'w+') as f:\n",
    "                    json.dump(gbm.dump_model(), f, indent = 4)            \n",
    "            bst = lgb.Booster(model_file = f'{v_fileName}.txt')  \n",
    "            y_pred  = bst.predict(X_valid)\n",
    "            v_score = roc_auc_score(y_valid, y_pred)\n",
    "            self.__models__.append(bst)\n",
    "            self.__validScores__.append(v_score)\n",
    "        return\n",
    "    \n",
    "    \n",
    "    #----------------------------------------------------------------------------------------------------------------\n",
    "    def __scaleData__(self, X_data, p_train = False): \n",
    "        \"\"\" Returns a copy of the fead raw data. \"\"\" \n",
    "        if len(self.__selected_featuresIni__) == 0: return X_data.copy()\n",
    "            \n",
    "        if p_train:\n",
    "            self.__feature_name__ = [item for item in X_data.columns if item in self.__selected_featuresIni__]\n",
    "            \n",
    "        return X_data[self.__feature_name__].copy()\n",
    "            \n",
    "        \n",
    "    #----------------------------------------------------------------------------------------------------------------\n",
    "    def __createCVSplits__(self): \n",
    "        \"\"\" Function used to create the training / validation datasets. They will only be created one, at the \n",
    "            initialization of the objects. When using Bayesian Optimization, this operation is than executed only once. \"\"\" \n",
    "        if len(self.__dataset_train__) == 0: \n",
    "            self.__dataset_train__ = []\n",
    "            self.__dataset_valid__ = []\n",
    "            self.__validation__    = []\n",
    "            \n",
    "            # For cross validation add the training / validation datasets based on the CVFold splits\n",
    "            if self.__cvSplits__ > 1:\n",
    "                print('Execute CV split.')\n",
    "                v_cvFolds = CVFold(n_splits = self.__cvSplits__, shuffle = False, random_state = self.__random_state__)\n",
    "                for train_idx, valid_idx in v_cvFolds.split(self.__X_train__, self.__y_train__):\n",
    "                    X_trainCV = self.__scaleData__(self.__X_train__.iloc[train_idx, :], True)\n",
    "                    y_trainCV = self.__y_train__.iloc[train_idx]\n",
    "                    X_validCV = self.__scaleData__(self.__X_train__.iloc[valid_idx, :], False)\n",
    "                    y_validCV = self.__y_train__.iloc[valid_idx]\n",
    "\n",
    "                    if self.__modelType__ == 'lightgbm':\n",
    "                        lgb_train = lgb.Dataset( X_trainCV, y_trainCV, free_raw_data = True )\n",
    "                        lgb_valid = lgb.Dataset( X_validCV, y_validCV, free_raw_data = True, reference = lgb_train )\n",
    "                        self.__dataset_train__.append(lgb_train)\n",
    "                        self.__dataset_valid__.append(lgb_valid)   \n",
    "                        self.__validation__.append((X_validCV, y_validCV))\n",
    "            \n",
    "            # Add the complete training dataset for LGB\n",
    "            elif self.__modelType__ == 'lightgbm':\n",
    "                lgb_train = lgb.Dataset( self.__scaleData__(self.__X_train__), \n",
    "                                         self.__y_train__, free_raw_data = True )\n",
    "                lgb_valid = lgb.Dataset( self.__scaleData__(self.__X_train__), \n",
    "                                         self.__y_train__, free_raw_data = True, reference = lgb_train )\n",
    "                self.__dataset_train__.append(lgb_train)\n",
    "                self.__dataset_valid__.append(lgb_valid) \n",
    "                self.__validation__.append((self.__X_train__, self.__y_train__))\n",
    "        \n",
    "        return\n",
    "    \n",
    "    \n",
    "    #----------------------------------------------------------------------------------------------------------------\n",
    "    def bayesianSearchLGB( self, p_hyper_space, p_posWeight, p_max_eval, X_test, y_test, p_verbose = False ):\n",
    "        \"\"\" Execute the Bayesian Search for LGB models. It returns the best x model groups. \"\"\" \n",
    "        v_hyper_space  = p_hyper_space.copy() \n",
    "        v_bayes_trials = Trials()\n",
    "        \n",
    "        self.ITERATION = 0\n",
    "        self.__cvScores__ = {}\n",
    "        import csv\n",
    "        from hyperopt import STATUS_OK\n",
    "        from timeit import default_timer as timer\n",
    "        \n",
    "        # File to save results\n",
    "        v_fileName = f'models/gbm_trials/model_{self.__modelName__}.csv'\n",
    "        v_fopen    = open(v_fileName, 'w')\n",
    "        v_writer   = csv.writer(v_fopen)\n",
    "        \n",
    "        # Write the headers to the file\n",
    "        v_writer.writerow([ 'scoreValid', 'scoreTest', 'loss', 'params', 'iteration', 'train_time' ])\n",
    "        v_fopen.close()\n",
    "\n",
    "        def objective(p_params, p_fileName = v_fileName):\n",
    "            \"\"\"Objective function for Gradient Boosting Machine Hyperparameter Optimization\"\"\"\n",
    "            # Keep track of evals\n",
    "            self.ITERATION += 1\n",
    "            \n",
    "            # Retrieve the subsample if present otherwise set to 1.0\n",
    "            v_subsample = p_params['boosting_type'].get('subsample', 1.0)\n",
    "\n",
    "            # Extract the boosting type\n",
    "            p_params['boosting_type'] = p_params['boosting_type']['boosting_type']\n",
    "            p_params['subsample']     = v_subsample\n",
    "            \n",
    "            # Make sure that the parameters which need to be integers are integers\n",
    "            for parameter_name in ['num_leaves', 'min_child_samples', 'max_depth']:\n",
    "                p_params[parameter_name] = int(p_params[parameter_name])\n",
    "\n",
    "            v_start = timer()\n",
    "            self.__trainLGB__( p_params          = p_params, \n",
    "                               p_sufix           = self.ITERATION,\n",
    "                               p_saveFull        = False,\n",
    "                               p_verbose         = False )\n",
    "            v_run_time = timer() - v_start\n",
    "            \n",
    "            v_scoreValid = self.getScore()             \n",
    "            v_predTest   = self.predictProba(X_test)\n",
    "            v_scoreTest  = roc_auc_score(y_test, v_predTest)               \n",
    "            self.__cvScores__[self.ITERATION] = { 'valid': v_scoreValid,\n",
    "                                                  'test':  v_scoreTest }             \n",
    "            if p_verbose: print(self.ITERATION, ' ... ', round(v_scoreValid, 6), ' ... ', round(v_scoreTest, 6))\n",
    "\n",
    "            # Loss must be minimized\n",
    "            v_loss = 1 - v_scoreValid\n",
    "            \n",
    "            # Write to the csv file\n",
    "            v_fopen = open(p_fileName, 'a')\n",
    "            v_writer = csv.writer(v_fopen)\n",
    "            v_writer.writerow([v_scoreValid, v_scoreTest, v_loss, p_params, self.ITERATION, v_run_time])\n",
    "            \n",
    "            # Dictionary with information for evaluation\n",
    "            return { 'loss':        v_loss, \n",
    "                     'params':      p_params, \n",
    "                     'status':      STATUS_OK, \n",
    "                     'iteration':   self.ITERATION,\n",
    "                     'train_time':  v_run_time,\n",
    "                     'scoreValid':  v_scoreValid,  \n",
    "                     'scoreTest':   v_scoreTest }\n",
    "        \n",
    "        v_search = fmin( fn         = objective, \n",
    "                         space      = v_hyper_space, \n",
    "                         algo       = tpe.suggest, \n",
    "                         max_evals  = p_max_eval, \n",
    "                         trials     = v_bayes_trials )\n",
    "        \n",
    "        self.__bayes_trials__ = sorted(v_bayes_trials.results, key=lambda x: x['scoreValid'], reverse = True)\n",
    "\n",
    "        return self.__bayes_trials__"
   ]
  },
  {
   "cell_type": "markdown",
   "metadata": {},
   "source": [
    "Copy top 10 models to a new stack folder."
   ]
  },
  {
   "cell_type": "code",
   "execution_count": 16,
   "metadata": {},
   "outputs": [
    {
     "name": "stdout",
     "output_type": "stream",
     "text": [
      "\n",
      "***********************************************************************************************\n"
     ]
    },
    {
     "ename": "AttributeError",
     "evalue": "'CustBoostClassifier' object has no attribute '__bayes_trials__'",
     "output_type": "error",
     "traceback": [
      "\u001b[1;31m---------------------------------------------------------------------------\u001b[0m",
      "\u001b[1;31mAttributeError\u001b[0m                            Traceback (most recent call last)",
      "\u001b[1;32m<ipython-input-16-87c6d96409ed>\u001b[0m in \u001b[0;36m<module>\u001b[1;34m()\u001b[0m\n\u001b[1;32m----> 1\u001b[1;33m \u001b[0mv_stackDir\u001b[0m \u001b[1;33m=\u001b[0m \u001b[0mv_model\u001b[0m\u001b[1;33m.\u001b[0m\u001b[0mcopyStackModels\u001b[0m\u001b[1;33m(\u001b[0m\u001b[0mp_top\u001b[0m \u001b[1;33m=\u001b[0m \u001b[1;36m10\u001b[0m\u001b[1;33m)\u001b[0m\u001b[1;33m\u001b[0m\u001b[0m\n\u001b[0m\u001b[0;32m      2\u001b[0m \u001b[0mprint\u001b[0m\u001b[1;33m(\u001b[0m\u001b[1;34mf'New stack directory created: {v_stackDir}'\u001b[0m\u001b[1;33m)\u001b[0m\u001b[1;33m\u001b[0m\u001b[0m\n",
      "\u001b[1;32mN:\\Arvato-Financial-Services\\CustBoostClassifier.py\u001b[0m in \u001b[0;36mcopyStackModels\u001b[1;34m(self, p_top)\u001b[0m\n\u001b[0;32m     82\u001b[0m         \u001b[0mv_destDir\u001b[0m   \u001b[1;33m=\u001b[0m \u001b[1;34mf'{self.__modelName__}_{v_now}'\u001b[0m\u001b[1;33m\u001b[0m\u001b[0m\n\u001b[0;32m     83\u001b[0m         \u001b[0mv_src_files\u001b[0m \u001b[1;33m=\u001b[0m \u001b[1;34mf'models/saveTrain/'\u001b[0m\u001b[1;33m\u001b[0m\u001b[0m\n\u001b[1;32m---> 84\u001b[1;33m         \u001b[0mv_stackDir\u001b[0m  \u001b[1;33m=\u001b[0m \u001b[1;34mf'models/stack/{v_destDir}'\u001b[0m\u001b[1;33m\u001b[0m\u001b[0m\n\u001b[0m\u001b[0;32m     85\u001b[0m         \u001b[1;32mif\u001b[0m \u001b[1;32mnot\u001b[0m \u001b[0mos\u001b[0m\u001b[1;33m.\u001b[0m\u001b[0mpath\u001b[0m\u001b[1;33m.\u001b[0m\u001b[0mexists\u001b[0m\u001b[1;33m(\u001b[0m\u001b[0mv_stackDir\u001b[0m\u001b[1;33m)\u001b[0m\u001b[1;33m:\u001b[0m \u001b[0mos\u001b[0m\u001b[1;33m.\u001b[0m\u001b[0mmakedirs\u001b[0m\u001b[1;33m(\u001b[0m\u001b[0mv_stackDir\u001b[0m\u001b[1;33m)\u001b[0m\u001b[1;33m\u001b[0m\u001b[0m\n\u001b[0;32m     86\u001b[0m \u001b[1;33m\u001b[0m\u001b[0m\n",
      "\u001b[1;31mAttributeError\u001b[0m: 'CustBoostClassifier' object has no attribute '__bayes_trials__'"
     ]
    }
   ],
   "source": [
    "v_stackDir = v_model.copyStackModels(p_top = 10)\n",
    "print(f'New stack directory created: {v_stackDir}')"
   ]
  },
  {
   "cell_type": "markdown",
   "metadata": {},
   "source": [
    "-----\n",
    "#### Make predictions with best 10 stack models"
   ]
  },
  {
   "cell_type": "code",
   "execution_count": 14,
   "metadata": {},
   "outputs": [
    {
     "name": "stdout",
     "output_type": "stream",
     "text": [
      "Class has been initialized for model type: lightgbm\n",
      "   ROC / AUC score: 0.780571.\n"
     ]
    },
    {
     "ename": "NameError",
     "evalue": "name 'sns' is not defined",
     "output_type": "error",
     "traceback": [
      "\u001b[1;31m---------------------------------------------------------------------------\u001b[0m",
      "\u001b[1;31mNameError\u001b[0m                                 Traceback (most recent call last)",
      "\u001b[1;32m<ipython-input-14-ba971f48887a>\u001b[0m in \u001b[0;36m<module>\u001b[1;34m()\u001b[0m\n\u001b[0;32m      5\u001b[0m                                \u001b[0mX_data\u001b[0m     \u001b[1;33m=\u001b[0m \u001b[0mX_testAll\u001b[0m\u001b[1;33m,\u001b[0m\u001b[1;33m\u001b[0m\u001b[0m\n\u001b[0;32m      6\u001b[0m                                \u001b[0my_data\u001b[0m     \u001b[1;33m=\u001b[0m \u001b[0my_testAll\u001b[0m\u001b[1;33m,\u001b[0m\u001b[1;33m\u001b[0m\u001b[0m\n\u001b[1;32m----> 7\u001b[1;33m                                p_showPlot = True )\n\u001b[0m",
      "\u001b[1;32mN:\\Arvato-Financial-Services\\CustBoostClassifier.py\u001b[0m in \u001b[0;36mpredictStack\u001b[1;34m(self, p_folder, X_data, y_data, p_showPlot)\u001b[0m\n\u001b[0;32m    101\u001b[0m                     \u001b[0mbst\u001b[0m \u001b[1;33m=\u001b[0m \u001b[0mlgb\u001b[0m\u001b[1;33m.\u001b[0m\u001b[0mBooster\u001b[0m\u001b[1;33m(\u001b[0m\u001b[0mmodel_file\u001b[0m \u001b[1;33m=\u001b[0m \u001b[1;34mf'{dirpath}/{filename}'\u001b[0m\u001b[1;33m)\u001b[0m\u001b[1;33m\u001b[0m\u001b[0m\n\u001b[0;32m    102\u001b[0m                     \u001b[0mself\u001b[0m\u001b[1;33m.\u001b[0m\u001b[0m__models__\u001b[0m\u001b[1;33m.\u001b[0m\u001b[0mappend\u001b[0m\u001b[1;33m(\u001b[0m\u001b[0mbst\u001b[0m\u001b[1;33m)\u001b[0m\u001b[1;33m\u001b[0m\u001b[0m\n\u001b[1;32m--> 103\u001b[1;33m         \u001b[1;32mreturn\u001b[0m \u001b[0mself\u001b[0m\u001b[1;33m.\u001b[0m\u001b[0mpredictProba\u001b[0m\u001b[1;33m(\u001b[0m\u001b[0mX_data\u001b[0m\u001b[1;33m,\u001b[0m \u001b[0my_data\u001b[0m\u001b[1;33m,\u001b[0m \u001b[0mp_showPlot\u001b[0m\u001b[1;33m)\u001b[0m\u001b[1;33m\u001b[0m\u001b[0m\n\u001b[0m\u001b[0;32m    104\u001b[0m \u001b[1;33m\u001b[0m\u001b[0m\n\u001b[0;32m    105\u001b[0m \u001b[1;33m\u001b[0m\u001b[0m\n",
      "\u001b[1;32mN:\\Arvato-Financial-Services\\CustBoostClassifier.py\u001b[0m in \u001b[0;36mpredictProba\u001b[1;34m(self, X_data, y_data, p_showPlot)\u001b[0m\n\u001b[0;32m    160\u001b[0m                 v_data = pd.DataFrame({ \"True\":       y_data.values,\n\u001b[0;32m    161\u001b[0m                                         \"Predicted\":  np.round(y_pred, 2) }, index = y_data.index)\n\u001b[1;32m--> 162\u001b[1;33m                 \u001b[0max\u001b[0m \u001b[1;33m=\u001b[0m \u001b[0msns\u001b[0m\u001b[1;33m.\u001b[0m\u001b[0mcountplot\u001b[0m\u001b[1;33m(\u001b[0m\u001b[0my\u001b[0m \u001b[1;33m=\u001b[0m \u001b[1;34m\"Predicted\"\u001b[0m\u001b[1;33m,\u001b[0m \u001b[0mdata\u001b[0m \u001b[1;33m=\u001b[0m \u001b[0mv_data\u001b[0m\u001b[1;33m[\u001b[0m\u001b[0mv_data\u001b[0m\u001b[1;33m[\u001b[0m\u001b[1;34m\"True\"\u001b[0m\u001b[1;33m]\u001b[0m \u001b[1;33m==\u001b[0m \u001b[1;36m0\u001b[0m\u001b[1;33m]\u001b[0m\u001b[1;33m)\u001b[0m\u001b[1;33m\u001b[0m\u001b[0m\n\u001b[0m\u001b[0;32m    163\u001b[0m                 \u001b[0mplt\u001b[0m\u001b[1;33m.\u001b[0m\u001b[0mshow\u001b[0m\u001b[1;33m(\u001b[0m\u001b[1;33m)\u001b[0m\u001b[1;33m\u001b[0m\u001b[0m\n\u001b[0;32m    164\u001b[0m                 \u001b[0max\u001b[0m \u001b[1;33m=\u001b[0m \u001b[0msns\u001b[0m\u001b[1;33m.\u001b[0m\u001b[0mcountplot\u001b[0m\u001b[1;33m(\u001b[0m\u001b[0my\u001b[0m \u001b[1;33m=\u001b[0m \u001b[1;34m\"Predicted\"\u001b[0m\u001b[1;33m,\u001b[0m \u001b[0mdata\u001b[0m \u001b[1;33m=\u001b[0m \u001b[0mv_data\u001b[0m\u001b[1;33m[\u001b[0m\u001b[0mv_data\u001b[0m\u001b[1;33m[\u001b[0m\u001b[1;34m\"True\"\u001b[0m\u001b[1;33m]\u001b[0m \u001b[1;33m==\u001b[0m \u001b[1;36m1\u001b[0m\u001b[1;33m]\u001b[0m\u001b[1;33m)\u001b[0m\u001b[1;33m\u001b[0m\u001b[0m\n",
      "\u001b[1;31mNameError\u001b[0m: name 'sns' is not defined"
     ]
    }
   ],
   "source": [
    "v_stackDir = ['LGB_AllFeatures_NI_NS_20181202_1428']\n",
    "v_model = CustBoostClassifier( p_modelType          = 'lightgbm',\n",
    "                               p_random_state       = 2013 )   \n",
    "y_pred = v_model.predictStack( p_folder   = v_stackDir,\n",
    "                               X_data     = X_testAll, \n",
    "                               y_data     = y_testAll, \n",
    "                               p_showPlot = True )"
   ]
  },
  {
   "cell_type": "markdown",
   "metadata": {},
   "source": [
    "----\n",
    "#### Calculate most 30 important features, based on the models above"
   ]
  },
  {
   "cell_type": "code",
   "execution_count": null,
   "metadata": {},
   "outputs": [],
   "source": [
    "v_stackDir = ['']\n",
    "v_model = CustBoostClassifier( p_modelType          = 'lightgbm',\n",
    "                               p_random_state       = 2013 )\n",
    "v_mainFeatures = v_model.featureImportanceStack( p_folder = v_stackDir,\n",
    "                                                 p_top    = 30 )"
   ]
  },
  {
   "cell_type": "markdown",
   "metadata": {},
   "source": [
    "------\n",
    "### Bayesian search for parameters for LGB models with 30 features, no imputing, no scaling"
   ]
  },
  {
   "cell_type": "code",
   "execution_count": null,
   "metadata": {},
   "outputs": [],
   "source": [
    "v_hyper_space = { 'objective':           'binary',\n",
    "                  'n_estimators': 1000 + hp.randint('n_estimators', 1500),               \n",
    "                  'boosting_type': hp.choice('boosting_type', [\n",
    "                                                         { 'boosting_type': 'gbdt', \n",
    "                                                           'subsample': hp.uniform('gdbt_subsample', 0.5, 1)}, \n",
    "                                                         { 'boosting_type': 'dart', \n",
    "                                                           'subsample': hp.uniform('dart_subsample', 0.5, 1)},\n",
    "                                                         { 'boosting_type': 'goss'} ]),\n",
    "                  'max_depth':         hp.quniform('max_depth', 1, 30, 1),\n",
    "                  'scale_pos_weight':  hp.quniform('scale_pos_weight', v_posWeight * 0.5, \n",
    "                                                                       v_posWeight * 2.5, \n",
    "                                                                       v_posWeight * 0.1),\n",
    "                  'num_leaves':        hp.quniform('num_leaves', 2, 150, 1),\n",
    "                  'learning_rate':     hp.loguniform('learning_rate', np.log(0.00001), np.log(0.2)),\n",
    "                  'min_child_samples': hp.quniform('min_child_samples', 20, 500, 5),\n",
    "                  'reg_alpha':         hp.uniform('reg_alpha', 0.0, 1.0),\n",
    "                  'reg_lambda':        hp.uniform('reg_lambda', 0.0, 1.0),\n",
    "                  'colsample_bytree':  hp.uniform('colsample_by_tree', 0.6, 1.0) } \n",
    "\n",
    "v_selected_features = v_mainFeatures['feature'].tolist()[:30]\n",
    "v_model = CustBoostClassifier( p_modelType          = 'lightgbm',\n",
    "                               p_modelName          = 'LGB_Sel30_Features_NI_NS',\n",
    "                               X_train              = X_trainAll.copy(),\n",
    "                               y_train              = y_trainAll.copy(),\n",
    "                               p_selected_features  = v_selected_features,\n",
    "                               p_imputeColumns      = [], \n",
    "                               p_scaleColumns       = [], \n",
    "                               p_cvSplits           = 10,\n",
    "                               p_random_state       = 2013 )   \n",
    "v_bayes_trials_FS30 = v_model.bayesianSearchLGB( p_hyper_space  = v_hyper_space,\n",
    "                                                 p_posWeight    = v_posWeight,\n",
    "                                                 p_max_eval     = 30,\n",
    "                                                 X_test         = X_testAll, \n",
    "                                                 y_test         = y_testAll )"
   ]
  },
  {
   "cell_type": "markdown",
   "metadata": {},
   "source": [
    "-----\n",
    "#### Visualize the distibution of the scores for the different hyperparameters"
   ]
  },
  {
   "cell_type": "code",
   "execution_count": null,
   "metadata": {},
   "outputs": [],
   "source": [
    "for key in v_bayes_trials_FS30[0]['params'].keys():\n",
    "    for item in v_bayes_trials_FS30[:150]:\n",
    "        plt.scatter(round(item['params'][key], 4), item['scoreValid'], c = \"g\")\n",
    "        plt.scatter(round(item['params'][key], 4), item['scoreTest'],  c = \"b\")\n",
    "    plt.show()"
   ]
  },
  {
   "cell_type": "code",
   "execution_count": null,
   "metadata": {},
   "outputs": [],
   "source": []
  },
  {
   "cell_type": "code",
   "execution_count": null,
   "metadata": {},
   "outputs": [],
   "source": []
  },
  {
   "cell_type": "markdown",
   "metadata": {},
   "source": [
    "The Bayesian did not find an optimum after 600 trials, so we will check the distribution of the scores for different parameters, and do a new search on narrowed hyper parameters."
   ]
  },
  {
   "cell_type": "markdown",
   "metadata": {},
   "source": [
    "We can see that the best 150 trials have a learning rate lower than 0.0075."
   ]
  },
  {
   "cell_type": "markdown",
   "metadata": {},
   "source": [
    "We can see that for the best 150 trials we have an optimal number of leaves lower than 40."
   ]
  },
  {
   "cell_type": "markdown",
   "metadata": {},
   "source": [
    "We can see that for the best 150 trials we have an optimal number of column samples by tree between 0.65 and 0.86."
   ]
  },
  {
   "cell_type": "markdown",
   "metadata": {},
   "source": [
    "We can see that for the best 150 trials we have an optimal number for reg lambda lower than 0.5."
   ]
  },
  {
   "cell_type": "code",
   "execution_count": null,
   "metadata": {},
   "outputs": [],
   "source": []
  },
  {
   "cell_type": "code",
   "execution_count": null,
   "metadata": {},
   "outputs": [],
   "source": []
  },
  {
   "cell_type": "code",
   "execution_count": null,
   "metadata": {},
   "outputs": [],
   "source": []
  },
  {
   "cell_type": "code",
   "execution_count": null,
   "metadata": {},
   "outputs": [],
   "source": []
  },
  {
   "cell_type": "code",
   "execution_count": null,
   "metadata": {},
   "outputs": [],
   "source": [
    "v_hyper_space = { 'objective':           'binary',\n",
    "                  'n_estimators': 1000 + hp.randint('n_estimators', 1500),               \n",
    "                  'boosting_type': hp.choice('boosting_type', [\n",
    "                                                         { 'boosting_type': 'gbdt', \n",
    "                                                           'subsample': hp.uniform('gdbt_subsample', 0.5, 1)}, \n",
    "                                                         { 'boosting_type': 'dart', \n",
    "                                                           'subsample': hp.uniform('dart_subsample', 0.5, 1)},\n",
    "                                                         { 'boosting_type': 'goss'} ]),\n",
    "                  'max_depth':         hp.quniform('max_depth', 1, 60, 1),\n",
    "                  'scale_pos_weight':  hp.quniform('scale_pos_weight', v_posWeight, \n",
    "                                                                       v_posWeight * 2,\n",
    "                                                                       v_posWeight * 0.2 ),\n",
    "                  'num_leaves':        hp.quniform('num_leaves', 2, 40, 1),\n",
    "                  'learning_rate':     hp.loguniform('learning_rate', np.log(0.000001), np.log(0.0075)),\n",
    "                  'min_child_samples': hp.quniform('min_child_samples', 20, 500, 5),\n",
    "                  'reg_alpha':         hp.uniform('reg_alpha', 0.0, 1.0),\n",
    "                  'reg_lambda':        hp.uniform('reg_lambda', 0.0, 0.5),\n",
    "                  'colsample_bytree':  hp.uniform('colsample_by_tree', 0.65, 0.86) }  \n",
    "\n",
    "v_model = CustBoostClassifier( p_modelType          = 'lightgbm',\n",
    "                               p_modelName          = 'LGB_AllFeatures_NI_NS_RP',\n",
    "                               X_train              = X_trainAll.copy(),\n",
    "                               y_train              = y_trainAll.copy(),\n",
    "                               p_selected_features  = [],\n",
    "                               p_imputeColumns      = [], \n",
    "                               p_scaleColumns       = [], \n",
    "                               p_cvSplits           = 10,\n",
    "                               p_random_state       = 2013 )   \n",
    "v_bayes_trials = v_model.bayesianSearchLGB( p_hyper_space = v_hyper_space,\n",
    "                                            p_posWeight   = v_posWeight,\n",
    "                                            p_max_eval    = 900,\n",
    "                                            p_topTrials   = 30,\n",
    "                                            X_test        = X_testAll, \n",
    "                                            y_test        = y_testAll )"
   ]
  },
  {
   "cell_type": "code",
   "execution_count": null,
   "metadata": {},
   "outputs": [],
   "source": []
  },
  {
   "cell_type": "code",
   "execution_count": null,
   "metadata": {},
   "outputs": [],
   "source": []
  },
  {
   "cell_type": "markdown",
   "metadata": {},
   "source": [
    "-----\n",
    "----\n",
    "----"
   ]
  },
  {
   "cell_type": "markdown",
   "metadata": {},
   "source": [
    "## Part 3: Kaggle Competition\n",
    "\n",
    "Now that you've created a model to predict which individuals are most likely to respond to a mailout campaign, it's time to test that model in competition through Kaggle. If you click on the link [here](http://www.kaggle.com/t/21e6d45d4c574c7fa2d868f0e8c83140), you'll be taken to the competition page where, if you have a Kaggle account, you can enter. If you're one of the top performers, you may have the chance to be contacted by a hiring manager from Arvato or Bertelsmann for an interview!\n",
    "\n",
    "Your entry to the competition should be a CSV file with two columns. The first column should be a copy of \"LNR\", which acts as an ID number for each individual in the \"TEST\" partition. The second column, \"RESPONSE\", should be some measure of how likely each individual became a customer – this might not be a straightforward probability. As you should have found in Part 2, there is a large output class imbalance, where most individuals did not respond to the mailout. Thus, predicting individual classes and using accuracy does not seem to be an appropriate performance evaluation method. Instead, the competition will be using AUC to evaluate performance. The exact values of the \"RESPONSE\" column do not matter as much: only that the higher values try to capture as many of the actual customers as possible, early in the ROC curve sweep."
   ]
  },
  {
   "cell_type": "code",
   "execution_count": null,
   "metadata": {},
   "outputs": [],
   "source": [
    "for path in [ '../Arvato Project - dataSensitive', '../../data/Term2/capstone/arvato_data' ]:\n",
    "    try:\n",
    "        mailout_test = pd.read_csv(f'{path}/Udacity_MAILOUT_052018_TEST.csv', sep=';').drop('Unnamed: 0', axis = 1)\n",
    "        break\n",
    "    except: None\n",
    "        \n",
    "# Load variables saved earlier\n",
    "v_pcaMissingUnknown = joblib.load(g_saveFilenames['pcaMissingUnknown'])\n",
    "\n",
    "with open(g_saveFilenames['featuresDef'], 'r') as inFile:\n",
    "    v_featuresDef = json.load(inFile)\n",
    "    \n",
    "with open(g_saveFilenames['categoricalColumns'], 'r') as inFile:\n",
    "    v_categoricalColumns = json.load(inFile)\n",
    "    \n",
    "with open(g_saveFilenames['categoricalToProcess'], 'r') as inFile:\n",
    "    v_categoricalToProcess = json.load(inFile)\n",
    "    \n",
    "with open(g_saveFilenames['dummyEncode'], 'r') as inFile:\n",
    "    v_dummyEncode = json.load(inFile)\n",
    "    \n",
    "with open(g_saveFilenames['highlyCorrelated'], 'r') as inFile:\n",
    "    v_highlyCorrelated = json.load(inFile)\n",
    "    \n",
    "with open(g_saveFilenames['colMissing'], 'r') as inFile:\n",
    "    v_colMissing = json.load(inFile)\n",
    "    \n",
    "with open(g_saveFilenames['colUnknownVals'], 'r') as inFile:\n",
    "    v_colUnknownVals = json.load(inFile)\n",
    "    \n",
    "v_mailout_test, v_missing, v_scaleColumns = utl_cleanDataFrame( p_label                 = 'Test Dataset', \n",
    "                                                                p_data                  = mailout_test, \n",
    "                                                                p_featuresDef           = v_featuresDef, \n",
    "                                                                p_categoricalColumns    = v_categoricalColumns, \n",
    "                                                                p_categoricalToProcess  = v_categoricalToProcess, \n",
    "                                                                p_dummyEncode           = v_dummyEncode, \n",
    "                                                                p_highlyCorrelated      = v_highlyCorrelated, \n",
    "                                                                p_pcaMissingUnknown     = v_pcaMissingUnknown, \n",
    "                                                                p_colMissing            = v_colMissing, \n",
    "                                                                p_colUnknownVals        = v_colUnknownVals,\n",
    "                                                                p_ignoreScale           = [ 'LNR' ] )"
   ]
  },
  {
   "cell_type": "code",
   "execution_count": null,
   "metadata": {},
   "outputs": [],
   "source": [
    "v_folder = 'LGB_AllFeatures_NI_NS_RT_20181202_1035'\n",
    "v_model = CustBoostClassifier( p_modelType          = 'lightgbm',\n",
    "                               p_random_state       = 2013 )   \n",
    "y_pred = v_model.predictStack( p_folder   = [ v_folder ],\n",
    "                               X_data     = v_mailout_test.drop(['LNR'], axis = 1) )\n",
    "\n",
    "y_submit = pd.DataFrame(y_pred, columns = ['RESPONSE'])\n",
    "y_submit['LNR'] = v_mailout_test['LNR']\n",
    "y_submit = y_submit[['LNR', 'RESPONSE']]\n",
    "y_submit.to_csv(f'submit/submit_{v_folder}.csv', index = False)"
   ]
  }
 ],
 "metadata": {
  "kernelspec": {
   "display_name": "Python 3",
   "language": "python",
   "name": "python3"
  },
  "language_info": {
   "codemirror_mode": {
    "name": "ipython",
    "version": 3
   },
   "file_extension": ".py",
   "mimetype": "text/x-python",
   "name": "python",
   "nbconvert_exporter": "python",
   "pygments_lexer": "ipython3",
   "version": "3.6.6"
  }
 },
 "nbformat": 4,
 "nbformat_minor": 2
}
